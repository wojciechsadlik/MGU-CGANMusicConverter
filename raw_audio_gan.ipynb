{
  "nbformat": 4,
  "nbformat_minor": 0,
  "metadata": {
    "colab": {
      "name": "raw_audio_gan.ipynb",
      "provenance": [],
      "collapsed_sections": [],
      "authorship_tag": "ABX9TyNe4EO85AxdOKuWXg67B2zZ",
      "include_colab_link": true
    },
    "kernelspec": {
      "name": "python3",
      "display_name": "Python 3"
    },
    "language_info": {
      "name": "python"
    },
    "accelerator": "GPU"
  },
  "cells": [
    {
      "cell_type": "markdown",
      "metadata": {
        "id": "view-in-github",
        "colab_type": "text"
      },
      "source": [
        "<a href=\"https://colab.research.google.com/github/wojciechsadlik/MGU-CGANMusicConverter/blob/main/raw_audio_gan.ipynb\" target=\"_parent\"><img src=\"https://colab.research.google.com/assets/colab-badge.svg\" alt=\"Open In Colab\"/></a>"
      ]
    },
    {
      "cell_type": "code",
      "execution_count": 1,
      "metadata": {
        "id": "pRSEMDDlqXMQ",
        "colab": {
          "base_uri": "https://localhost:8080/"
        },
        "outputId": "d59c1cfa-899b-43f8-b208-f05516c73fae"
      },
      "outputs": [
        {
          "output_type": "stream",
          "name": "stdout",
          "text": [
            "Drive already mounted at /content/drive; to attempt to forcibly remount, call drive.mount(\"/content/drive\", force_remount=True).\n"
          ]
        }
      ],
      "source": [
        "from google.colab import drive\n",
        "drive.mount('/content/drive')"
      ]
    },
    {
      "cell_type": "code",
      "source": [
        "%cd /content/drive/MyDrive/Colab Notebooks/MGU-CGANMusicConverter"
      ],
      "metadata": {
        "colab": {
          "base_uri": "https://localhost:8080/"
        },
        "id": "TmizoChIFpqn",
        "outputId": "68b6b62c-b900-4319-c52b-0aad22225b85"
      },
      "execution_count": 2,
      "outputs": [
        {
          "output_type": "stream",
          "name": "stdout",
          "text": [
            "/content/drive/MyDrive/Colab Notebooks/MGU-CGANMusicConverter\n"
          ]
        }
      ]
    },
    {
      "cell_type": "code",
      "source": [
        "import os\n",
        "import pickle\n",
        "import numpy as np\n",
        "from glob import glob\n",
        "from keras.utils.np_utils import to_categorical"
      ],
      "metadata": {
        "id": "Gs6h4Ks9qeSJ"
      },
      "execution_count": 3,
      "outputs": []
    },
    {
      "cell_type": "code",
      "source": [
        "def get_data(file_list):\n",
        "  def load_into(filename, x, y):\n",
        "    with open(filename, 'rb') as f:\n",
        "      pkl_file = pickle.load(f)\n",
        "      x.append(pkl_file['audio'])\n",
        "      y.append(int(pkl_file['class_id']))\n",
        "\n",
        "  x, y = [], []\n",
        "  for filename in file_list:\n",
        "    load_into(filename, x, y)\n",
        "\n",
        "  return np.array(x), np.array(y)"
      ],
      "metadata": {
        "id": "j1YeP0D_qnGa"
      },
      "execution_count": 4,
      "outputs": []
    },
    {
      "cell_type": "code",
      "source": [
        ""
      ],
      "metadata": {
        "id": "VC9ma19ko2D8"
      },
      "execution_count": 4,
      "outputs": []
    },
    {
      "cell_type": "code",
      "source": [
        "from keras.layers.pooling import MaxPooling1D\n",
        "from keras.backend import in_top_k\n",
        "from keras.models import Model\n",
        "from keras.layers.convolutional import Conv1D\n",
        "from keras import regularizers, Input\n",
        "from tensorflow.keras.layers import BatchNormalization\n",
        "from keras.layers.core import Activation\n",
        "from keras.layers import LeakyReLU, Add, Dense, Flatten\n",
        "from tensorflow.keras.utils import plot_model\n",
        "from tensorflow.keras.optimizers import Adam\n",
        "\n",
        "AUDIO_LENGTH = 110250\n",
        "\n",
        "def add_Res1D(y, kernel_size, filters, strides=1, downsample=False):\n",
        "  y_shortcut = y\n",
        "\n",
        "  y = Conv1D(filters=filters, kernel_size=kernel_size, strides=1, padding='same')(y)\n",
        "  y = BatchNormalization()(y)\n",
        "  y = LeakyReLU()(y)\n",
        "  y = Conv1D(filters=filters, kernel_size=kernel_size, strides=strides, padding='same')(y)\n",
        "  y = BatchNormalization()(y)\n",
        "\n",
        "  if downsample or strides > 1:\n",
        "    y_shortcut = Conv1D(filters=filters, kernel_size=1, strides=strides, padding='same')(y_shortcut)\n",
        "\n",
        "  y = Add()([y_shortcut, y])\n",
        "  y = LeakyReLU()(y)\n",
        "\n",
        "  return y\n",
        "\n",
        "\n",
        "def build_discriminator(input_shape=[AUDIO_LENGTH, 1]):\n",
        "\n",
        "  X_input = Input(input_shape)\n",
        "  \n",
        "  y = Conv1D(128, kernel_size=3, strides=3, padding='same')(X_input)\n",
        "  y = Conv1D(128, kernel_size=3, strides=3, padding='same')(y)\n",
        "  y = Conv1D(128, kernel_size=3, strides=3, padding='same')(y)\n",
        "  y = Flatten()(y)\n",
        "  y = Dense(1, activation='sigmoid')(y)\n",
        "\n",
        "  model = Model(inputs = X_input, outputs = y)\n",
        "\n",
        "  model.summary()\n",
        "\n",
        "  return model"
      ],
      "metadata": {
        "id": "-L00GaRwqqJh"
      },
      "execution_count": 5,
      "outputs": []
    },
    {
      "cell_type": "code",
      "source": [
        "discriminator = build_discriminator()\n",
        "discriminator.compile(loss='binary_crossentropy', optimizer=Adam(lr=0.0001, beta_1=0.5), metrics=['accuracy'])"
      ],
      "metadata": {
        "id": "lZo_6o5R4Hx2",
        "colab": {
          "base_uri": "https://localhost:8080/"
        },
        "outputId": "06c52dd5-a1f3-4ac2-bb85-7156fbe25947"
      },
      "execution_count": 6,
      "outputs": [
        {
          "output_type": "stream",
          "name": "stdout",
          "text": [
            "Model: \"model\"\n",
            "_________________________________________________________________\n",
            " Layer (type)                Output Shape              Param #   \n",
            "=================================================================\n",
            " input_1 (InputLayer)        [(None, 110250, 1)]       0         \n",
            "                                                                 \n",
            " conv1d (Conv1D)             (None, 36750, 128)        512       \n",
            "                                                                 \n",
            " conv1d_1 (Conv1D)           (None, 12250, 128)        49280     \n",
            "                                                                 \n",
            " conv1d_2 (Conv1D)           (None, 4084, 128)         49280     \n",
            "                                                                 \n",
            " flatten (Flatten)           (None, 522752)            0         \n",
            "                                                                 \n",
            " dense (Dense)               (None, 1)                 522753    \n",
            "                                                                 \n",
            "=================================================================\n",
            "Total params: 621,825\n",
            "Trainable params: 621,825\n",
            "Non-trainable params: 0\n",
            "_________________________________________________________________\n"
          ]
        },
        {
          "output_type": "stream",
          "name": "stderr",
          "text": [
            "/usr/local/lib/python3.7/dist-packages/keras/optimizer_v2/adam.py:105: UserWarning: The `lr` argument is deprecated, use `learning_rate` instead.\n",
            "  super(Adam, self).__init__(name, **kwargs)\n"
          ]
        }
      ]
    },
    {
      "cell_type": "code",
      "source": [
        ""
      ],
      "metadata": {
        "id": "DXbt12Mtv6Ce"
      },
      "execution_count": 6,
      "outputs": []
    },
    {
      "cell_type": "code",
      "source": [
        "from keras.layers.convolutional import Conv1DTranspose\n",
        "from keras.layers import Reshape\n",
        "\n",
        "LATENT_DIM = 98\n",
        "\n",
        "def build_generator(input_shape=(LATENT_DIM, )):\n",
        "\n",
        "  X_input = Input(input_shape)\n",
        "  \n",
        "  y = Dense(input_shape[0] * 128)(X_input)\n",
        "  y = Reshape((input_shape[0], 128))(y)\n",
        "  y = Conv1DTranspose(128, kernel_size=7, strides=5, padding='same')(y)\n",
        "  y = LeakyReLU()(y)\n",
        "  y = Conv1DTranspose(128, kernel_size=7, strides=5, padding='same')(y)\n",
        "  y = LeakyReLU()(y)\n",
        "  y = Conv1DTranspose(128, kernel_size=7, strides=5, padding='same')(y)\n",
        "  y = LeakyReLU()(y)\n",
        "  y = Conv1DTranspose(128, kernel_size=3, strides=3, padding='same')(y)\n",
        "  y = LeakyReLU()(y)\n",
        "  #y = Conv1DTranspose(512, kernel_size=3, strides=3, padding='same')(y)\n",
        "  #y = LeakyReLU()(y)\n",
        "  y = Conv1DTranspose(1, kernel_size=3, strides=3, padding='same', activation='tanh')(y)\n",
        "  #y = LeakyReLU()(y)\n",
        "  #y = Conv1D(1, kernel_size=3, padding='same', activation='tanh')(y)\n",
        "\n",
        "\n",
        "  model = Model(inputs = X_input, outputs = y)\n",
        "\n",
        "  model.summary()\n",
        "\n",
        "  return model"
      ],
      "metadata": {
        "id": "-U8M7G3BrtII"
      },
      "execution_count": 7,
      "outputs": []
    },
    {
      "cell_type": "code",
      "source": [
        "generator = build_generator()"
      ],
      "metadata": {
        "id": "VefRbGeltjBJ",
        "colab": {
          "base_uri": "https://localhost:8080/"
        },
        "outputId": "e38fc756-404d-461a-b89d-944ad736c29c"
      },
      "execution_count": 8,
      "outputs": [
        {
          "output_type": "stream",
          "name": "stdout",
          "text": [
            "Model: \"model_1\"\n",
            "_________________________________________________________________\n",
            " Layer (type)                Output Shape              Param #   \n",
            "=================================================================\n",
            " input_2 (InputLayer)        [(None, 98)]              0         \n",
            "                                                                 \n",
            " dense_1 (Dense)             (None, 12544)             1241856   \n",
            "                                                                 \n",
            " reshape (Reshape)           (None, 98, 128)           0         \n",
            "                                                                 \n",
            " conv1d_transpose (Conv1DTra  (None, 490, 128)         114816    \n",
            " nspose)                                                         \n",
            "                                                                 \n",
            " leaky_re_lu (LeakyReLU)     (None, 490, 128)          0         \n",
            "                                                                 \n",
            " conv1d_transpose_1 (Conv1DT  (None, 2450, 128)        114816    \n",
            " ranspose)                                                       \n",
            "                                                                 \n",
            " leaky_re_lu_1 (LeakyReLU)   (None, 2450, 128)         0         \n",
            "                                                                 \n",
            " conv1d_transpose_2 (Conv1DT  (None, 12250, 128)       114816    \n",
            " ranspose)                                                       \n",
            "                                                                 \n",
            " leaky_re_lu_2 (LeakyReLU)   (None, 12250, 128)        0         \n",
            "                                                                 \n",
            " conv1d_transpose_3 (Conv1DT  (None, 36750, 128)       49280     \n",
            " ranspose)                                                       \n",
            "                                                                 \n",
            " leaky_re_lu_3 (LeakyReLU)   (None, 36750, 128)        0         \n",
            "                                                                 \n",
            " conv1d_transpose_4 (Conv1DT  (None, 110250, 1)        385       \n",
            " ranspose)                                                       \n",
            "                                                                 \n",
            "=================================================================\n",
            "Total params: 1,635,969\n",
            "Trainable params: 1,635,969\n",
            "Non-trainable params: 0\n",
            "_________________________________________________________________\n"
          ]
        }
      ]
    },
    {
      "cell_type": "code",
      "source": [
        "z = Input(shape=(LATENT_DIM,))\n",
        "sample = generator(z)\n",
        "discriminator.trainable = False\n",
        "valid = discriminator(sample)\n",
        "combined_model = Model(z, valid)\n",
        "combined_model.compile(loss='binary_crossentropy', optimizer=Adam(lr=0.0001, beta_1=0.5))\n",
        "combined_model.summary()"
      ],
      "metadata": {
        "id": "Fp2b6W8SuPHv",
        "colab": {
          "base_uri": "https://localhost:8080/"
        },
        "outputId": "ba20b641-5be6-493e-cf41-a59bab1f2120"
      },
      "execution_count": 9,
      "outputs": [
        {
          "output_type": "stream",
          "name": "stdout",
          "text": [
            "Model: \"model_2\"\n",
            "_________________________________________________________________\n",
            " Layer (type)                Output Shape              Param #   \n",
            "=================================================================\n",
            " input_3 (InputLayer)        [(None, 98)]              0         \n",
            "                                                                 \n",
            " model_1 (Functional)        (None, 110250, 1)         1635969   \n",
            "                                                                 \n",
            " model (Functional)          (None, 1)                 621825    \n",
            "                                                                 \n",
            "=================================================================\n",
            "Total params: 2,257,794\n",
            "Trainable params: 1,635,969\n",
            "Non-trainable params: 621,825\n",
            "_________________________________________________________________\n"
          ]
        },
        {
          "output_type": "stream",
          "name": "stderr",
          "text": [
            "/usr/local/lib/python3.7/dist-packages/keras/optimizer_v2/adam.py:105: UserWarning: The `lr` argument is deprecated, use `learning_rate` instead.\n",
            "  super(Adam, self).__init__(name, **kwargs)\n"
          ]
        }
      ]
    },
    {
      "cell_type": "code",
      "source": [
        "batch_size = 32\n",
        "half_batch = int(batch_size / 2)\n",
        "\n",
        "real_labels = np.ones((batch_size, 1))\n",
        "fake_labels = np.zeros((batch_size, 1))\n",
        "\n",
        "epochs = 40\n",
        "\n",
        "DATASET_PATH = './audio_splitting/genres/jazz'\n",
        "SAMPLES_LIST = os.listdir(DATASET_PATH)\n",
        "SAMPLES_NUM = len(SAMPLES_LIST)"
      ],
      "metadata": {
        "id": "a1k1rRVGtlZf"
      },
      "execution_count": 10,
      "outputs": []
    },
    {
      "cell_type": "code",
      "source": [
        "batches_num = int(SAMPLES_NUM/half_batch)\n",
        "\n",
        "for epoch in range(epochs):\n",
        "  idx = np.arange(SAMPLES_NUM)\n",
        "  np.random.shuffle(idx)\n",
        "\n",
        "  d_loss_sum = 0\n",
        "  d_acc_sum = 0\n",
        "  g_loss_sum = 0\n",
        "\n",
        "  for batch in range(batches_num):\n",
        "    batch_idx = idx[batch*half_batch : (batch+1)*half_batch]\n",
        "    \n",
        "    real_samples, _ = get_data([\n",
        "        os.path.join(DATASET_PATH, SAMPLES_LIST[i]) for i in batch_idx\n",
        "      ])\n",
        "    \n",
        "    #print(\"%d : batch %d samples loaded\" % (epoch, batch))\n",
        "\n",
        "    noise = np.random.normal(0, 1, (batch_size, LATENT_DIM))\n",
        "    gen_samples = generator.predict(noise[0:half_batch])\n",
        "\n",
        "    #print('fake samples generated')\n",
        "\n",
        "    d_loss_real = discriminator.train_on_batch(real_samples, real_labels[0:half_batch])\n",
        "    d_loss_fake = discriminator.train_on_batch(gen_samples, fake_labels[0:half_batch])\n",
        "    d_loss = 0.5 * np.add(d_loss_real, d_loss_fake)\n",
        "\n",
        "    g_loss = combined_model.train_on_batch(noise, real_labels)\n",
        "\n",
        "    d_loss_sum += d_loss[0]\n",
        "    d_acc_sum += d_loss[1]\n",
        "    g_loss_sum += g_loss\n",
        "\n",
        "  print(\"%d [D loss: %f, acc.: %.2f%%] [G loss: %f]\"\n",
        "    % (epoch, d_loss_sum/batches_num, 100*d_acc_sum/batches_num, g_loss_sum/batches_num))"
      ],
      "metadata": {
        "id": "Zt8gSem7EQ_q",
        "colab": {
          "base_uri": "https://localhost:8080/"
        },
        "outputId": "daf758a0-7326-4f17-dd2a-7a40b28e3b8f"
      },
      "execution_count": 11,
      "outputs": [
        {
          "output_type": "stream",
          "name": "stdout",
          "text": [
            "0 [D loss: 0.682930, acc.: 28.80%] [G loss: 0.692707]\n",
            "1 [D loss: 0.557030, acc.: 57.60%] [G loss: 0.793039]\n",
            "2 [D loss: 0.501243, acc.: 76.35%] [G loss: 1.388708]\n",
            "3 [D loss: 0.574501, acc.: 69.59%] [G loss: 1.364827]\n",
            "4 [D loss: 0.577779, acc.: 70.44%] [G loss: 1.398928]\n",
            "5 [D loss: 0.534326, acc.: 77.36%] [G loss: 1.337923]\n",
            "6 [D loss: 0.510375, acc.: 78.46%] [G loss: 1.453088]\n",
            "7 [D loss: 0.487796, acc.: 80.32%] [G loss: 1.579930]\n",
            "8 [D loss: 0.509314, acc.: 75.84%] [G loss: 1.647698]\n",
            "9 [D loss: 0.522557, acc.: 77.96%] [G loss: 1.606351]\n",
            "10 [D loss: 0.616116, acc.: 73.90%] [G loss: 1.695121]\n",
            "11 [D loss: 0.721898, acc.: 54.22%] [G loss: 1.465901]\n",
            "12 [D loss: 0.534618, acc.: 75.84%] [G loss: 1.383141]\n",
            "13 [D loss: 0.495056, acc.: 81.33%] [G loss: 1.460028]\n",
            "14 [D loss: 0.463016, acc.: 83.70%] [G loss: 1.489707]\n",
            "15 [D loss: 0.584169, acc.: 70.27%] [G loss: 1.496871]\n",
            "16 [D loss: 0.517455, acc.: 75.59%] [G loss: 1.682702]\n",
            "17 [D loss: 0.573748, acc.: 70.10%] [G loss: 1.910230]\n",
            "18 [D loss: 0.681743, acc.: 66.22%] [G loss: 2.057566]\n",
            "19 [D loss: 0.693687, acc.: 66.22%] [G loss: 1.893303]\n",
            "20 [D loss: 0.604987, acc.: 67.91%] [G loss: 1.636565]\n",
            "21 [D loss: 0.403826, acc.: 86.74%] [G loss: 1.751193]\n",
            "22 [D loss: 0.611414, acc.: 71.79%] [G loss: 1.750461]\n",
            "23 [D loss: 0.594071, acc.: 71.71%] [G loss: 1.718274]\n",
            "24 [D loss: 0.583874, acc.: 68.75%] [G loss: 1.766529]\n",
            "25 [D loss: 0.479755, acc.: 78.80%] [G loss: 1.972450]\n",
            "26 [D loss: 0.406329, acc.: 85.73%] [G loss: 1.854349]\n",
            "27 [D loss: 0.556201, acc.: 75.51%] [G loss: 1.804326]\n",
            "28 [D loss: 0.592463, acc.: 70.02%] [G loss: 1.991242]\n",
            "29 [D loss: 0.786936, acc.: 56.59%] [G loss: 1.847050]\n",
            "30 [D loss: 0.631942, acc.: 71.28%] [G loss: 1.965854]\n",
            "31 [D loss: 0.632940, acc.: 66.47%] [G loss: 1.891769]\n",
            "32 [D loss: 0.563836, acc.: 72.97%] [G loss: 2.059449]\n",
            "33 [D loss: 0.555681, acc.: 71.45%] [G loss: 1.661936]\n",
            "34 [D loss: 0.327425, acc.: 94.26%] [G loss: 1.677000]\n",
            "35 [D loss: 0.598059, acc.: 71.11%] [G loss: 1.561298]\n",
            "36 [D loss: 0.618893, acc.: 70.27%] [G loss: 1.624783]\n",
            "37 [D loss: 0.666025, acc.: 62.50%] [G loss: 1.780668]\n",
            "38 [D loss: 0.620471, acc.: 69.00%] [G loss: 1.859186]\n",
            "39 [D loss: 0.560552, acc.: 72.72%] [G loss: 2.180904]\n"
          ]
        }
      ]
    },
    {
      "cell_type": "code",
      "source": [
        "import matplotlib.pyplot as plt\n",
        "\n",
        "noise = np.random.normal(0, 1, (1, LATENT_DIM))\n",
        "gen_sample = generator.predict(noise)\n",
        "gen_sample = gen_sample.reshape(AUDIO_LENGTH, 1)\n",
        "\n",
        "plt.figure(figsize=(15,5))\n",
        "plt.plot(gen_sample[50100 : 100100])\n",
        "plt.show()"
      ],
      "metadata": {
        "id": "p23OmFpv3tj7",
        "colab": {
          "base_uri": "https://localhost:8080/",
          "height": 320
        },
        "outputId": "7d619c70-c166-4ade-cf7c-51e406b900a8"
      },
      "execution_count": 12,
      "outputs": [
        {
          "output_type": "display_data",
          "data": {
            "image/png": "[encoded data removed]",
            "text/plain": [
              "<Figure size 1080x360 with 1 Axes>"
            ]
          },
          "metadata": {
            "needs_background": "light"
          }
        }
      ]
    },
    {
      "cell_type": "code",
      "source": [
        "with open(DATASET_PATH + '/3000.pkl', 'rb') as f:\n",
        "      pkl_file = pickle.load(f)\n",
        "      plt.figure(figsize=(15,5))\n",
        "      plt.plot(pkl_file['audio'][50100 : 100100])\n",
        "      plt.show()\n"
      ],
      "metadata": {
        "id": "bmeM7jgVBiX9",
        "colab": {
          "base_uri": "https://localhost:8080/",
          "height": 320
        },
        "outputId": "ba16ec8a-eaa0-45cb-f3ed-41b485ad2a43"
      },
      "execution_count": 13,
      "outputs": [
        {
          "output_type": "display_data",
          "data": {
            "image/png": "[encoded data removed]",
            "text/plain": [
              "<Figure size 1080x360 with 1 Axes>"
            ]
          },
          "metadata": {
            "needs_background": "light"
          }
        }
      ]
    }
  ]
}