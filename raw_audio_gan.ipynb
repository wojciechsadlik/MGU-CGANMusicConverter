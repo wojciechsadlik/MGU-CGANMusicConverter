{
  "nbformat": 4,
  "nbformat_minor": 0,
  "metadata": {
    "colab": {
      "name": "raw_audio_gan.ipynb",
      "provenance": [],
      "collapsed_sections": [],
      "authorship_tag": "ABX9TyMnAgyT4L0OIQxVrWbbEQZ5",
      "include_colab_link": true
    },
    "kernelspec": {
      "name": "python3",
      "display_name": "Python 3"
    },
    "language_info": {
      "name": "python"
    },
    "accelerator": "GPU"
  },
  "cells": [
    {
      "cell_type": "markdown",
      "metadata": {
        "id": "view-in-github",
        "colab_type": "text"
      },
      "source": [
        "<a href=\"https://colab.research.google.com/github/wojciechsadlik/MGU-CGANMusicConverter/blob/main/raw_audio_gan.ipynb\" target=\"_parent\"><img src=\"https://colab.research.google.com/assets/colab-badge.svg\" alt=\"Open In Colab\"/></a>"
      ]
    },
    {
      "cell_type": "code",
      "execution_count": 1,
      "metadata": {
        "id": "pRSEMDDlqXMQ",
        "colab": {
          "base_uri": "https://localhost:8080/"
        },
        "outputId": "a902aea0-2be1-4da1-9c5c-ce86b856545a"
      },
      "outputs": [
        {
          "output_type": "stream",
          "name": "stdout",
          "text": [
            "Drive already mounted at /content/drive; to attempt to forcibly remount, call drive.mount(\"/content/drive\", force_remount=True).\n"
          ]
        }
      ],
      "source": [
        "from google.colab import drive\n",
        "drive.mount('/content/drive')"
      ]
    },
    {
      "cell_type": "code",
      "source": [
        "%cd /content/drive/MyDrive/Colab Notebooks/MGU-CGANMusicConverter"
      ],
      "metadata": {
        "colab": {
          "base_uri": "https://localhost:8080/"
        },
        "id": "TmizoChIFpqn",
        "outputId": "ad7d92bb-2738-4881-fb9c-b6360c453bf9"
      },
      "execution_count": 2,
      "outputs": [
        {
          "output_type": "stream",
          "name": "stdout",
          "text": [
            "/content/drive/MyDrive/Colab Notebooks/MGU-CGANMusicConverter\n"
          ]
        }
      ]
    },
    {
      "cell_type": "code",
      "source": [
        "import os\n",
        "import pickle\n",
        "import numpy as np\n",
        "from glob import glob\n",
        "from keras.utils.np_utils import to_categorical"
      ],
      "metadata": {
        "id": "Gs6h4Ks9qeSJ"
      },
      "execution_count": 3,
      "outputs": []
    },
    {
      "cell_type": "code",
      "source": [
        "def get_data(file_list):\n",
        "  def load_into(filename, x, y):\n",
        "    with open(filename, 'rb') as f:\n",
        "      pkl_file = pickle.load(f)\n",
        "      x.append(pkl_file['audio'])\n",
        "      y.append(int(pkl_file['class_id']))\n",
        "\n",
        "  x, y = [], []\n",
        "  for filename in file_list:\n",
        "    load_into(filename, x, y)\n",
        "\n",
        "  return np.array(x), np.array(y)"
      ],
      "metadata": {
        "id": "j1YeP0D_qnGa"
      },
      "execution_count": 4,
      "outputs": []
    },
    {
      "cell_type": "code",
      "source": [
        ""
      ],
      "metadata": {
        "id": "VC9ma19ko2D8"
      },
      "execution_count": 4,
      "outputs": []
    },
    {
      "cell_type": "code",
      "source": [
        "from keras.layers.pooling import MaxPooling1D\n",
        "from keras.backend import in_top_k\n",
        "from keras.models import Model\n",
        "from keras.layers.convolutional import Conv1D\n",
        "from keras import regularizers, Input\n",
        "from tensorflow.keras.layers import BatchNormalization\n",
        "from keras.layers.core import Activation\n",
        "from keras.layers import LeakyReLU, Add, Dense, Flatten\n",
        "from tensorflow.keras.utils import plot_model\n",
        "\n",
        "AUDIO_LENGTH = 110250\n",
        "\n",
        "def add_Res1D(y, kernel_size, filters, strides=1, downsample=False):\n",
        "  y_shortcut = y\n",
        "\n",
        "  y = Conv1D(filters=filters, kernel_size=kernel_size, strides=1, padding='same')(y)\n",
        "  y = BatchNormalization()(y)\n",
        "  y = LeakyReLU()(y)\n",
        "  y = Conv1D(filters=filters, kernel_size=kernel_size, strides=strides, padding='same')(y)\n",
        "  y = BatchNormalization()(y)\n",
        "\n",
        "  if downsample or strides > 1:\n",
        "    y_shortcut = Conv1D(filters=filters, kernel_size=1, strides=strides, padding='same')(y_shortcut)\n",
        "\n",
        "  y = Add()([y_shortcut, y])\n",
        "  y = LeakyReLU()(y)\n",
        "\n",
        "  return y\n",
        "\n",
        "\n",
        "def build_discriminator(input_shape=[AUDIO_LENGTH, 1]):\n",
        "\n",
        "  X_input = Input(input_shape)\n",
        "  \n",
        "  y = Conv1D(128, kernel_size=3, strides=3, padding='same')(X_input)\n",
        "  y = add_Res1D(y, 3, 128)\n",
        "  y = MaxPooling1D(pool_size=3, strides=3)(y)\n",
        "  y = add_Res1D(y, 3, 128)\n",
        "  y = MaxPooling1D(pool_size=3, strides=3)(y)\n",
        "  y = add_Res1D(y, 3, 256, downsample=True)\n",
        "  y = MaxPooling1D(pool_size=3, strides=3)(y)\n",
        "  y = add_Res1D(y, 3, 256)\n",
        "  y = MaxPooling1D(pool_size=3, strides=3)(y)\n",
        "  y = add_Res1D(y, 3, 256)\n",
        "  y = MaxPooling1D(pool_size=3, strides=3)(y)\n",
        "  y = add_Res1D(y, 3, 256)\n",
        "  y = MaxPooling1D(pool_size=3, strides=3)(y)\n",
        "  y = add_Res1D(y, 3, 256)\n",
        "  y = MaxPooling1D(pool_size=3, strides=3)(y)\n",
        "  y = add_Res1D(y, 3, 256)\n",
        "  y = MaxPooling1D(pool_size=3, strides=3)(y)\n",
        "  y = add_Res1D(y, 3, 512, downsample=True)\n",
        "  y = MaxPooling1D(pool_size=3, strides=3)(y)\n",
        "  y = Conv1D(512, kernel_size=1, strides=1, padding='same')(y)\n",
        "  y = Flatten()(y)\n",
        "  y = Dense(1, activation='sigmoid')(y)\n",
        "\n",
        "  model = Model(inputs = X_input, outputs = y)\n",
        "\n",
        "  #model.summary()\n",
        "\n",
        "  return model"
      ],
      "metadata": {
        "id": "-L00GaRwqqJh"
      },
      "execution_count": 5,
      "outputs": []
    },
    {
      "cell_type": "code",
      "source": [
        "discriminator = build_discriminator()\n",
        "discriminator.compile(loss='binary_crossentropy', optimizer='adam', metrics=['accuracy'])"
      ],
      "metadata": {
        "id": "lZo_6o5R4Hx2"
      },
      "execution_count": 6,
      "outputs": []
    },
    {
      "cell_type": "code",
      "source": [
        ""
      ],
      "metadata": {
        "id": "DXbt12Mtv6Ce"
      },
      "execution_count": 6,
      "outputs": []
    },
    {
      "cell_type": "code",
      "source": [
        "from keras.layers.convolutional import Conv1DTranspose\n",
        "from keras.layers import Reshape\n",
        "\n",
        "LATENT_DIM = 98\n",
        "\n",
        "def build_generator(input_shape=(LATENT_DIM, )):\n",
        "\n",
        "  X_input = Input(input_shape)\n",
        "  \n",
        "  y = Dense(input_shape[0] * 128)(X_input)\n",
        "  y = Reshape((input_shape[0], 128))(y)\n",
        "  y = Conv1DTranspose(128, kernel_size=7, strides=5, padding='same')(y)\n",
        "  y = LeakyReLU()(y)\n",
        "  y = Conv1DTranspose(128, kernel_size=7, strides=5, padding='same')(y)\n",
        "  y = LeakyReLU()(y)\n",
        "  y = Conv1DTranspose(256, kernel_size=7, strides=5, padding='same')(y)\n",
        "  y = LeakyReLU()(y)\n",
        "  y = Conv1DTranspose(256, kernel_size=3, strides=3, padding='same')(y)\n",
        "  y = LeakyReLU()(y)\n",
        "  #y = Conv1DTranspose(512, kernel_size=3, strides=3, padding='same')(y)\n",
        "  #y = LeakyReLU()(y)\n",
        "  y = Conv1DTranspose(1, kernel_size=3, strides=3, padding='same', activation='tanh')(y)\n",
        "  #y = LeakyReLU()(y)\n",
        "  #y = Conv1D(1, kernel_size=3, padding='same', activation='tanh')(y)\n",
        "\n",
        "\n",
        "  model = Model(inputs = X_input, outputs = y)\n",
        "\n",
        "  #model.summary()\n",
        "\n",
        "  return model"
      ],
      "metadata": {
        "id": "-U8M7G3BrtII"
      },
      "execution_count": 7,
      "outputs": []
    },
    {
      "cell_type": "code",
      "source": [
        "generator = build_generator()"
      ],
      "metadata": {
        "id": "VefRbGeltjBJ"
      },
      "execution_count": 8,
      "outputs": []
    },
    {
      "cell_type": "code",
      "source": [
        "z = Input(shape=(LATENT_DIM,))\n",
        "sample = generator(z)\n",
        "discriminator.trainable = False\n",
        "valid = discriminator(sample)\n",
        "combined_model = Model(z, valid)\n",
        "combined_model.compile(loss='binary_crossentropy', optimizer='adam')"
      ],
      "metadata": {
        "id": "Fp2b6W8SuPHv"
      },
      "execution_count": 9,
      "outputs": []
    },
    {
      "cell_type": "code",
      "source": [
        "batch_size = 32\n",
        "\n",
        "valid_labels = np.ones((batch_size, 1))\n",
        "fake_labels = np.zeros((batch_size, 1))\n",
        "\n",
        "epochs = 3\n",
        "\n",
        "DATASET_PATH = './audio_splitting/genres/jazz'\n",
        "SAMPLES_LIST = os.listdir(DATASET_PATH)\n",
        "SAMPLES_NUM = len(SAMPLES_LIST)"
      ],
      "metadata": {
        "id": "a1k1rRVGtlZf"
      },
      "execution_count": 10,
      "outputs": []
    },
    {
      "cell_type": "code",
      "source": [
        "batches_num = int(SAMPLES_NUM/batch_size)\n",
        "\n",
        "for epoch in range(epochs):\n",
        "  idx = np.arange(SAMPLES_NUM)\n",
        "  np.random.shuffle(idx)\n",
        "\n",
        "  d_loss_sum = 0\n",
        "  d_acc_sum = 0\n",
        "  g_loss_sum = 0\n",
        "\n",
        "  for batch in range(batches_num):\n",
        "    batch_idx = idx[batch*batch_size : (batch+1)*batch_size]\n",
        "    \n",
        "    real_samples, _ = get_data([\n",
        "        os.path.join(DATASET_PATH, SAMPLES_LIST[i]) for i in batch_idx\n",
        "      ])\n",
        "    \n",
        "    #print(\"%d : batch %d samples loaded\" % (epoch, batch))\n",
        "\n",
        "    noise = np.random.normal(0, 1, (batch_size, LATENT_DIM))\n",
        "    gen_samples = generator.predict(noise)\n",
        "\n",
        "    #print('fake samples generated')\n",
        "\n",
        "    d_loss_real = discriminator.train_on_batch(real_samples, valid_labels)\n",
        "    d_loss_fake = discriminator.train_on_batch(gen_samples, fake_labels)\n",
        "    d_loss = 0.5 * np.add(d_loss_real, d_loss_fake)\n",
        "\n",
        "    g_loss = combined_model.train_on_batch(noise, valid_labels)\n",
        "\n",
        "    d_loss_sum += d_loss[0]\n",
        "    d_acc_sum += d_loss[1]\n",
        "    g_loss_sum += g_loss\n",
        "\n",
        "  print(\"%d [D loss: %f, acc.: %.2f%%] [G loss: %f]\"\n",
        "    % (epoch, d_loss_sum/batches_num, 100*d_acc_sum/batches_num, g_loss/batches_num))"
      ],
      "metadata": {
        "colab": {
          "base_uri": "https://localhost:8080/"
        },
        "id": "Zt8gSem7EQ_q",
        "outputId": "c1462de4-1c0b-4272-8195-07ca482d1776"
      },
      "execution_count": 11,
      "outputs": [
        {
          "output_type": "stream",
          "name": "stdout",
          "text": [
            "0 [D loss: 4.746317, acc.: 82.99%] [G loss: 0.007561]\n",
            "1 [D loss: 0.000285, acc.: 100.00%] [G loss: 0.000023]\n",
            "2 [D loss: 0.000119, acc.: 100.00%] [G loss: 0.000008]\n"
          ]
        }
      ]
    },
    {
      "cell_type": "code",
      "source": [
        "import matplotlib.pyplot as plt\n",
        "\n",
        "noise = np.random.normal(0, 1, (1, LATENT_DIM))\n",
        "gen_sample = generator.predict(noise)\n",
        "gen_sample = gen_sample.reshape(AUDIO_LENGTH, 1)\n",
        "\n",
        "plt.plot(gen_sample[100000 : 100050])\n",
        "plt.show()"
      ],
      "metadata": {
        "colab": {
          "base_uri": "https://localhost:8080/",
          "height": 265
        },
        "id": "p23OmFpv3tj7",
        "outputId": "0f936b05-3976-4a05-9f3b-213d8c6ed0f7"
      },
      "execution_count": 28,
      "outputs": [
        {
          "output_type": "display_data",
          "data": {
            "image/png": "[encoded data removed]",
            "text/plain": [
              "<Figure size 432x288 with 1 Axes>"
            ]
          },
          "metadata": {
            "needs_background": "light"
          }
        }
      ]
    }
  ]
}