{
  "nbformat": 4,
  "nbformat_minor": 0,
  "metadata": {
    "colab": {
      "name": "raw_audio_gan.ipynb",
      "provenance": [],
      "collapsed_sections": [],
      "authorship_tag": "ABX9TyM2vYTC6qWQ50gAMVMxQ09u",
      "include_colab_link": true
    },
    "kernelspec": {
      "name": "python3",
      "display_name": "Python 3"
    },
    "language_info": {
      "name": "python"
    },
    "accelerator": "GPU"
  },
  "cells": [
    {
      "cell_type": "markdown",
      "metadata": {
        "id": "view-in-github",
        "colab_type": "text"
      },
      "source": [
        "<a href=\"https://colab.research.google.com/github/wojciechsadlik/MGU-CGANMusicConverter/blob/main/raw_audio_gan.ipynb\" target=\"_parent\"><img src=\"https://colab.research.google.com/assets/colab-badge.svg\" alt=\"Open In Colab\"/></a>"
      ]
    },
    {
      "cell_type": "code",
      "execution_count": 1,
      "metadata": {
        "id": "pRSEMDDlqXMQ",
        "colab": {
          "base_uri": "https://localhost:8080/"
        },
        "outputId": "6accb5b4-1827-44d9-8863-ff0360f9e3cd"
      },
      "outputs": [
        {
          "output_type": "stream",
          "name": "stdout",
          "text": [
            "Drive already mounted at /content/drive; to attempt to forcibly remount, call drive.mount(\"/content/drive\", force_remount=True).\n"
          ]
        }
      ],
      "source": [
        "from google.colab import drive\n",
        "drive.mount('/content/drive')"
      ]
    },
    {
      "cell_type": "code",
      "source": [
        "%cd /content/drive/MyDrive/Colab Notebooks/MGU-CGANMusicConverter"
      ],
      "metadata": {
        "colab": {
          "base_uri": "https://localhost:8080/"
        },
        "id": "TmizoChIFpqn",
        "outputId": "28fb83cd-dadf-4e60-d404-e1302c072b31"
      },
      "execution_count": 2,
      "outputs": [
        {
          "output_type": "stream",
          "name": "stdout",
          "text": [
            "/content/drive/MyDrive/Colab Notebooks/MGU-CGANMusicConverter\n"
          ]
        }
      ]
    },
    {
      "cell_type": "code",
      "source": [
        "import os\n",
        "import pickle\n",
        "import numpy as np\n",
        "from glob import glob\n",
        "from keras.utils.np_utils import to_categorical"
      ],
      "metadata": {
        "id": "Gs6h4Ks9qeSJ"
      },
      "execution_count": 3,
      "outputs": []
    },
    {
      "cell_type": "code",
      "source": [
        "def get_data(file_list):\n",
        "  def load_into(filename, x, y):\n",
        "    with open(filename, 'rb') as f:\n",
        "      pkl_file = pickle.load(f)\n",
        "      x.append(pkl_file['audio'])\n",
        "      y.append(int(pkl_file['class_id']))\n",
        "\n",
        "  x, y = [], []\n",
        "  for filename in file_list:\n",
        "    load_into(filename, x, y)\n",
        "\n",
        "  return np.array(x), np.array(y)"
      ],
      "metadata": {
        "id": "j1YeP0D_qnGa"
      },
      "execution_count": 4,
      "outputs": []
    },
    {
      "cell_type": "code",
      "source": [
        ""
      ],
      "metadata": {
        "id": "VC9ma19ko2D8"
      },
      "execution_count": 4,
      "outputs": []
    },
    {
      "cell_type": "code",
      "source": [
        "from keras.layers.pooling import MaxPooling1D\n",
        "from keras.backend import in_top_k\n",
        "from keras.models import Model\n",
        "from keras.layers.convolutional import Conv1D\n",
        "from keras import regularizers, Input\n",
        "from tensorflow.keras.layers import BatchNormalization\n",
        "from keras.layers.core import Activation\n",
        "from keras.layers import LeakyReLU, Add, Dense, Flatten\n",
        "from tensorflow.keras.utils import plot_model\n",
        "from tensorflow.keras.optimizers import Adam\n",
        "\n",
        "AUDIO_LENGTH = 110250\n",
        "\n",
        "def add_Res1D(y, kernel_size, filters, strides=1, downsample=False):\n",
        "  y_shortcut = y\n",
        "\n",
        "  y = Conv1D(filters=filters, kernel_size=kernel_size, strides=1, padding='same')(y)\n",
        "  y = BatchNormalization()(y)\n",
        "  y = LeakyReLU()(y)\n",
        "  y = Conv1D(filters=filters, kernel_size=kernel_size, strides=strides, padding='same')(y)\n",
        "  y = BatchNormalization()(y)\n",
        "\n",
        "  if downsample or strides > 1:\n",
        "    y_shortcut = Conv1D(filters=filters, kernel_size=1, strides=strides, padding='same')(y_shortcut)\n",
        "\n",
        "  y = Add()([y_shortcut, y])\n",
        "  y = LeakyReLU()(y)\n",
        "\n",
        "  return y\n",
        "\n",
        "\n",
        "def build_discriminator(input_shape=[AUDIO_LENGTH, 1]):\n",
        "\n",
        "  X_input = Input(input_shape)\n",
        "  \n",
        "  y = Conv1D(128, kernel_size=3, strides=3, padding='same')(X_input)\n",
        "  y = Conv1D(128, kernel_size=3, strides=3, padding='same')(y)\n",
        "  y = Conv1D(128, kernel_size=3, strides=3, padding='same')(y)\n",
        "  y = Flatten()(y)\n",
        "  y = Dense(1, activation='sigmoid')(y)\n",
        "\n",
        "  model = Model(inputs = X_input, outputs = y)\n",
        "\n",
        "  model.summary()\n",
        "\n",
        "  return model"
      ],
      "metadata": {
        "id": "-L00GaRwqqJh"
      },
      "execution_count": 5,
      "outputs": []
    },
    {
      "cell_type": "code",
      "source": [
        "discriminator = build_discriminator()\n",
        "discriminator.compile(loss='binary_crossentropy', optimizer=Adam(lr=0.0001, beta_1=0.5), metrics=['accuracy'])"
      ],
      "metadata": {
        "id": "lZo_6o5R4Hx2",
        "colab": {
          "base_uri": "https://localhost:8080/"
        },
        "outputId": "b35e2834-ca6b-492b-bfc7-7edcd8eb63d9"
      },
      "execution_count": 6,
      "outputs": [
        {
          "output_type": "stream",
          "name": "stdout",
          "text": [
            "Model: \"model\"\n",
            "_________________________________________________________________\n",
            " Layer (type)                Output Shape              Param #   \n",
            "=================================================================\n",
            " input_1 (InputLayer)        [(None, 110250, 1)]       0         \n",
            "                                                                 \n",
            " conv1d (Conv1D)             (None, 36750, 128)        512       \n",
            "                                                                 \n",
            " conv1d_1 (Conv1D)           (None, 12250, 128)        49280     \n",
            "                                                                 \n",
            " conv1d_2 (Conv1D)           (None, 4084, 128)         49280     \n",
            "                                                                 \n",
            " flatten (Flatten)           (None, 522752)            0         \n",
            "                                                                 \n",
            " dense (Dense)               (None, 1)                 522753    \n",
            "                                                                 \n",
            "=================================================================\n",
            "Total params: 621,825\n",
            "Trainable params: 621,825\n",
            "Non-trainable params: 0\n",
            "_________________________________________________________________\n"
          ]
        },
        {
          "output_type": "stream",
          "name": "stderr",
          "text": [
            "/usr/local/lib/python3.7/dist-packages/keras/optimizer_v2/adam.py:105: UserWarning: The `lr` argument is deprecated, use `learning_rate` instead.\n",
            "  super(Adam, self).__init__(name, **kwargs)\n"
          ]
        }
      ]
    },
    {
      "cell_type": "code",
      "source": [
        ""
      ],
      "metadata": {
        "id": "DXbt12Mtv6Ce"
      },
      "execution_count": 6,
      "outputs": []
    },
    {
      "cell_type": "code",
      "source": [
        "from keras.layers.convolutional import Conv1DTranspose\n",
        "from keras.layers import Reshape\n",
        "\n",
        "LATENT_DIM = 98\n",
        "\n",
        "def build_generator(input_shape=(LATENT_DIM, )):\n",
        "\n",
        "  X_input = Input(input_shape)\n",
        "  \n",
        "  y = Dense(input_shape[0] * 128)(X_input)\n",
        "  y = Reshape((input_shape[0], 128))(y)\n",
        "  y = Conv1DTranspose(128, kernel_size=7, strides=5, padding='same')(y)\n",
        "  y = LeakyReLU()(y)\n",
        "  y = Conv1DTranspose(128, kernel_size=7, strides=5, padding='same')(y)\n",
        "  y = LeakyReLU()(y)\n",
        "  y = Conv1DTranspose(128, kernel_size=7, strides=5, padding='same')(y)\n",
        "  y = LeakyReLU()(y)\n",
        "  y = Conv1DTranspose(128, kernel_size=3, strides=3, padding='same')(y)\n",
        "  y = LeakyReLU()(y)\n",
        "  #y = Conv1DTranspose(512, kernel_size=3, strides=3, padding='same')(y)\n",
        "  #y = LeakyReLU()(y)\n",
        "  y = Conv1DTranspose(1, kernel_size=3, strides=3, padding='same', activation='tanh')(y)\n",
        "  #y = LeakyReLU()(y)\n",
        "  #y = Conv1D(1, kernel_size=3, padding='same', activation='tanh')(y)\n",
        "\n",
        "\n",
        "  model = Model(inputs = X_input, outputs = y)\n",
        "\n",
        "  model.summary()\n",
        "\n",
        "  return model"
      ],
      "metadata": {
        "id": "-U8M7G3BrtII"
      },
      "execution_count": 7,
      "outputs": []
    },
    {
      "cell_type": "code",
      "source": [
        "generator = build_generator()"
      ],
      "metadata": {
        "id": "VefRbGeltjBJ",
        "colab": {
          "base_uri": "https://localhost:8080/"
        },
        "outputId": "fcde5010-f61a-45e9-b904-12f0aa6d19a2"
      },
      "execution_count": 8,
      "outputs": [
        {
          "output_type": "stream",
          "name": "stdout",
          "text": [
            "Model: \"model_1\"\n",
            "_________________________________________________________________\n",
            " Layer (type)                Output Shape              Param #   \n",
            "=================================================================\n",
            " input_2 (InputLayer)        [(None, 98)]              0         \n",
            "                                                                 \n",
            " dense_1 (Dense)             (None, 12544)             1241856   \n",
            "                                                                 \n",
            " reshape (Reshape)           (None, 98, 128)           0         \n",
            "                                                                 \n",
            " conv1d_transpose (Conv1DTra  (None, 490, 128)         114816    \n",
            " nspose)                                                         \n",
            "                                                                 \n",
            " leaky_re_lu (LeakyReLU)     (None, 490, 128)          0         \n",
            "                                                                 \n",
            " conv1d_transpose_1 (Conv1DT  (None, 2450, 128)        114816    \n",
            " ranspose)                                                       \n",
            "                                                                 \n",
            " leaky_re_lu_1 (LeakyReLU)   (None, 2450, 128)         0         \n",
            "                                                                 \n",
            " conv1d_transpose_2 (Conv1DT  (None, 12250, 128)       114816    \n",
            " ranspose)                                                       \n",
            "                                                                 \n",
            " leaky_re_lu_2 (LeakyReLU)   (None, 12250, 128)        0         \n",
            "                                                                 \n",
            " conv1d_transpose_3 (Conv1DT  (None, 36750, 128)       49280     \n",
            " ranspose)                                                       \n",
            "                                                                 \n",
            " leaky_re_lu_3 (LeakyReLU)   (None, 36750, 128)        0         \n",
            "                                                                 \n",
            " conv1d_transpose_4 (Conv1DT  (None, 110250, 1)        385       \n",
            " ranspose)                                                       \n",
            "                                                                 \n",
            "=================================================================\n",
            "Total params: 1,635,969\n",
            "Trainable params: 1,635,969\n",
            "Non-trainable params: 0\n",
            "_________________________________________________________________\n"
          ]
        }
      ]
    },
    {
      "cell_type": "code",
      "source": [
        "z = Input(shape=(LATENT_DIM,))\n",
        "sample = generator(z)\n",
        "discriminator.trainable = False\n",
        "valid = discriminator(sample)\n",
        "combined_model = Model(z, valid)\n",
        "combined_model.compile(loss='binary_crossentropy', optimizer=Adam())\n",
        "combined_model.summary()"
      ],
      "metadata": {
        "id": "Fp2b6W8SuPHv",
        "colab": {
          "base_uri": "https://localhost:8080/"
        },
        "outputId": "8eb9ed29-f828-40b8-9193-e1cd59208938"
      },
      "execution_count": 9,
      "outputs": [
        {
          "output_type": "stream",
          "name": "stdout",
          "text": [
            "Model: \"model_2\"\n",
            "_________________________________________________________________\n",
            " Layer (type)                Output Shape              Param #   \n",
            "=================================================================\n",
            " input_3 (InputLayer)        [(None, 98)]              0         \n",
            "                                                                 \n",
            " model_1 (Functional)        (None, 110250, 1)         1635969   \n",
            "                                                                 \n",
            " model (Functional)          (None, 1)                 621825    \n",
            "                                                                 \n",
            "=================================================================\n",
            "Total params: 2,257,794\n",
            "Trainable params: 1,635,969\n",
            "Non-trainable params: 621,825\n",
            "_________________________________________________________________\n"
          ]
        }
      ]
    },
    {
      "cell_type": "code",
      "source": [
        "batch_size = 32\n",
        "half_batch = int(batch_size / 2)\n",
        "\n",
        "real_labels = np.ones((batch_size, 1))\n",
        "fake_labels = np.zeros((batch_size, 1))\n",
        "\n",
        "epochs = 20\n",
        "\n",
        "DATASET_PATH = './audio_splitting/genres/jazz'\n",
        "SAMPLES_LIST = os.listdir(DATASET_PATH)\n",
        "SAMPLES_NUM = len(SAMPLES_LIST)"
      ],
      "metadata": {
        "id": "a1k1rRVGtlZf"
      },
      "execution_count": 10,
      "outputs": []
    },
    {
      "cell_type": "code",
      "source": [
        "batches_num = int(SAMPLES_NUM/half_batch)\n",
        "\n",
        "for epoch in range(epochs):\n",
        "  idx = np.arange(SAMPLES_NUM)\n",
        "  np.random.shuffle(idx)\n",
        "\n",
        "  d_loss_sum = 0\n",
        "  d_acc_sum = 0\n",
        "  g_loss_sum = 0\n",
        "\n",
        "  for batch in range(batches_num):\n",
        "    batch_idx = idx[batch*half_batch : (batch+1)*half_batch]\n",
        "    \n",
        "    real_samples, _ = get_data([\n",
        "        os.path.join(DATASET_PATH, SAMPLES_LIST[i]) for i in batch_idx\n",
        "      ])\n",
        "    \n",
        "    #print(\"%d : batch %d samples loaded\" % (epoch, batch))\n",
        "\n",
        "    noise = np.random.normal(0, 1, (batch_size, LATENT_DIM))\n",
        "    gen_samples = generator.predict(noise[0:half_batch])\n",
        "\n",
        "    #print('fake samples generated')\n",
        "\n",
        "    d_loss_real = discriminator.train_on_batch(real_samples, real_labels[0:half_batch])\n",
        "    d_loss_fake = discriminator.train_on_batch(gen_samples, fake_labels[0:half_batch])\n",
        "    d_loss = 0.5 * np.add(d_loss_real, d_loss_fake)\n",
        "\n",
        "    g_loss = combined_model.train_on_batch(noise, real_labels)\n",
        "\n",
        "    d_loss_sum += d_loss[0]\n",
        "    d_acc_sum += d_loss[1]\n",
        "    g_loss_sum += g_loss\n",
        "\n",
        "  print(\"%d [D loss: %f, acc.: %.2f%%] [G loss: %f]\"\n",
        "    % (epoch, d_loss_sum/batches_num, 100*d_acc_sum/batches_num, g_loss_sum/batches_num))"
      ],
      "metadata": {
        "id": "Zt8gSem7EQ_q",
        "colab": {
          "base_uri": "https://localhost:8080/"
        },
        "outputId": "1f27856c-0c7e-46e9-d612-ee6474ac55b9"
      },
      "execution_count": 11,
      "outputs": [
        {
          "output_type": "stream",
          "name": "stdout",
          "text": [
            "0 [D loss: 0.656328, acc.: 56.33%] [G loss: 0.936934]\n",
            "1 [D loss: 0.657687, acc.: 66.05%] [G loss: 2.267834]\n",
            "2 [D loss: 0.436330, acc.: 88.85%] [G loss: 4.080883]\n",
            "3 [D loss: 0.433218, acc.: 89.27%] [G loss: 12.720226]\n",
            "4 [D loss: 1.263401, acc.: 78.21%] [G loss: 18.855906]\n",
            "5 [D loss: 0.490180, acc.: 90.20%] [G loss: 8.372703]\n",
            "6 [D loss: 0.093615, acc.: 98.06%] [G loss: 7.233368]\n",
            "7 [D loss: 0.592948, acc.: 89.19%] [G loss: 9.704316]\n",
            "8 [D loss: 0.393763, acc.: 93.92%] [G loss: 10.279002]\n",
            "9 [D loss: 0.215082, acc.: 95.95%] [G loss: 10.448037]\n",
            "10 [D loss: 0.086481, acc.: 98.31%] [G loss: 16.831893]\n",
            "11 [D loss: 0.009451, acc.: 99.83%] [G loss: 13.227525]\n",
            "12 [D loss: 0.090058, acc.: 97.97%] [G loss: 9.347140]\n",
            "13 [D loss: 0.114409, acc.: 97.55%] [G loss: 16.315917]\n",
            "14 [D loss: 0.246906, acc.: 96.11%] [G loss: 21.857903]\n",
            "15 [D loss: 0.068489, acc.: 98.65%] [G loss: 10.855786]\n",
            "16 [D loss: 0.104556, acc.: 97.72%] [G loss: 8.100909]\n",
            "17 [D loss: 0.099194, acc.: 97.89%] [G loss: 11.349704]\n",
            "18 [D loss: 0.152794, acc.: 96.79%] [G loss: 9.266331]\n",
            "19 [D loss: 0.135797, acc.: 96.79%] [G loss: 8.757028]\n"
          ]
        }
      ]
    },
    {
      "cell_type": "code",
      "source": [
        "import matplotlib.pyplot as plt\n",
        "\n",
        "noise = np.random.normal(0, 1, (1, LATENT_DIM))\n",
        "gen_sample = generator.predict(noise)\n",
        "gen_sample = gen_sample.reshape(AUDIO_LENGTH, 1)\n",
        "\n",
        "plt.figure(figsize=(15,5))\n",
        "plt.plot(gen_sample[50100 : 100100])\n",
        "plt.show()"
      ],
      "metadata": {
        "id": "p23OmFpv3tj7",
        "colab": {
          "base_uri": "https://localhost:8080/",
          "height": 320
        },
        "outputId": "c2738506-9610-4df8-850f-d577477edc47"
      },
      "execution_count": 12,
      "outputs": [
        {
          "output_type": "display_data",
          "data": {
            "image/png": "[encoded data removed]",
            "text/plain": [
              "<Figure size 1080x360 with 1 Axes>"
            ]
          },
          "metadata": {
            "needs_background": "light"
          }
        }
      ]
    },
    {
      "cell_type": "code",
      "source": [
        "with open(DATASET_PATH + '/3000.pkl', 'rb') as f:\n",
        "      pkl_file = pickle.load(f)\n",
        "      plt.figure(figsize=(15,5))\n",
        "      plt.plot(pkl_file['audio'][50100 : 100100])\n",
        "      plt.show()\n"
      ],
      "metadata": {
        "id": "bmeM7jgVBiX9",
        "colab": {
          "base_uri": "https://localhost:8080/",
          "height": 320
        },
        "outputId": "0037c776-22e4-4c2e-a2eb-c1fb5fc64281"
      },
      "execution_count": 13,
      "outputs": [
        {
          "output_type": "display_data",
          "data": {
            "image/png": "[encoded data removed]",
            "text/plain": [
              "<Figure size 1080x360 with 1 Axes>"
            ]
          },
          "metadata": {
            "needs_background": "light"
          }
        }
      ]
    }
  ]
}