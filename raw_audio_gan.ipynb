{
  "nbformat": 4,
  "nbformat_minor": 0,
  "metadata": {
    "colab": {
      "name": "raw_audio_gan.ipynb",
      "provenance": [],
      "collapsed_sections": [],
      "authorship_tag": "ABX9TyNSk2otf7ol+J0EAaeUxduL",
      "include_colab_link": true
    },
    "kernelspec": {
      "name": "python3",
      "display_name": "Python 3"
    },
    "language_info": {
      "name": "python"
    }
  },
  "cells": [
    {
      "cell_type": "markdown",
      "metadata": {
        "id": "view-in-github",
        "colab_type": "text"
      },
      "source": [
        "<a href=\"https://colab.research.google.com/github/wojciechsadlik/MGU-CGANMusicConverter/blob/main/raw_audio_gan.ipynb\" target=\"_parent\"><img src=\"https://colab.research.google.com/assets/colab-badge.svg\" alt=\"Open In Colab\"/></a>"
      ]
    },
    {
      "cell_type": "code",
      "execution_count": 1,
      "metadata": {
        "id": "pRSEMDDlqXMQ",
        "colab": {
          "base_uri": "https://localhost:8080/"
        },
        "outputId": "55f9d4e6-4022-4739-9563-d1fb24cf3ad6"
      },
      "outputs": [
        {
          "output_type": "stream",
          "name": "stdout",
          "text": [
            "Drive already mounted at /content/drive; to attempt to forcibly remount, call drive.mount(\"/content/drive\", force_remount=True).\n"
          ]
        }
      ],
      "source": [
        "from google.colab import drive\n",
        "drive.mount('/content/drive')"
      ]
    },
    {
      "cell_type": "code",
      "source": [
        "import os\n",
        "import pickle\n",
        "import numpy as np\n",
        "from glob import glob\n",
        "from keras.utils.np_utils import to_categorical"
      ],
      "metadata": {
        "id": "Gs6h4Ks9qeSJ"
      },
      "execution_count": 2,
      "outputs": []
    },
    {
      "cell_type": "code",
      "source": [
        "def get_data(file_list):\n",
        "  def load_into(filename, x, y):\n",
        "    with open(filename, 'rb') as f:\n",
        "      pkl_file = pickle.load(f)\n",
        "      x.append(pkl_file['audio'])\n",
        "      y.append(int(pkl_file['class_id']))\n",
        "\n",
        "  x, y = [], []\n",
        "  for filename in file_list:\n",
        "    load_into(filename, x, y)\n",
        "\n",
        "  return np.array(x), np.array(y)"
      ],
      "metadata": {
        "id": "j1YeP0D_qnGa"
      },
      "execution_count": 3,
      "outputs": []
    },
    {
      "cell_type": "code",
      "source": [
        "from keras.layers.pooling import MaxPooling1D\n",
        "from keras.backend import in_top_k\n",
        "from keras.models import Model\n",
        "from keras.layers.convolutional import Conv1D\n",
        "from keras import regularizers, Input\n",
        "from tensorflow.keras.layers import BatchNormalization\n",
        "from keras.layers.core import Activation\n",
        "from keras.layers import LeakyReLU, Add, Dense, Flatten\n",
        "from tensorflow.keras.utils import plot_model\n",
        "\n",
        "AUDIO_LENGTH = 110250\n",
        "\n",
        "def add_Res1D(y, kernel_size, filters, strides=1, downsample=False):\n",
        "  y_shortcut = y\n",
        "\n",
        "  y = Conv1D(filters=filters, kernel_size=kernel_size, strides=1, padding='same')(y)\n",
        "  y = BatchNormalization()(y)\n",
        "  y = LeakyReLU()(y)\n",
        "  y = Conv1D(filters=filters, kernel_size=kernel_size, strides=strides, padding='same')(y)\n",
        "  y = BatchNormalization()(y)\n",
        "\n",
        "  if downsample or strides > 1:\n",
        "    y_shortcut = Conv1D(filters=filters, kernel_size=1, strides=strides, padding='same')(y_shortcut)\n",
        "\n",
        "  y = Add()([y_shortcut, y])\n",
        "  y = LeakyReLU()(y)\n",
        "\n",
        "  return y\n",
        "\n",
        "\n",
        "def build_discriminator(input_shape=[AUDIO_LENGTH, 1]):\n",
        "\n",
        "  X_input = Input(input_shape)\n",
        "  \n",
        "  y = Conv1D(128, kernel_size=3, strides=3, padding='same')(X_input)\n",
        "  y = add_Res1D(y, 3, 128)\n",
        "  y = MaxPooling1D(pool_size=3, strides=3)(y)\n",
        "  y = add_Res1D(y, 3, 128)\n",
        "  y = MaxPooling1D(pool_size=3, strides=3)(y)\n",
        "  y = add_Res1D(y, 3, 256, downsample=True)\n",
        "  y = MaxPooling1D(pool_size=3, strides=3)(y)\n",
        "  y = add_Res1D(y, 3, 256)\n",
        "  y = MaxPooling1D(pool_size=3, strides=3)(y)\n",
        "  y = add_Res1D(y, 3, 256)\n",
        "  y = MaxPooling1D(pool_size=3, strides=3)(y)\n",
        "  y = add_Res1D(y, 3, 256)\n",
        "  y = MaxPooling1D(pool_size=3, strides=3)(y)\n",
        "  y = add_Res1D(y, 3, 256)\n",
        "  y = MaxPooling1D(pool_size=3, strides=3)(y)\n",
        "  y = add_Res1D(y, 3, 256)\n",
        "  y = MaxPooling1D(pool_size=3, strides=3)(y)\n",
        "  y = add_Res1D(y, 3, 512, downsample=True)\n",
        "  y = MaxPooling1D(pool_size=3, strides=3)(y)\n",
        "  y = Conv1D(512, kernel_size=1, strides=1, padding='same')(y)\n",
        "  y = Flatten()(y)\n",
        "  y = Dense(1, activation='sigmoid')(y)\n",
        "\n",
        "  model = Model(inputs = X_input, outputs = y)\n",
        "  return model"
      ],
      "metadata": {
        "id": "-L00GaRwqqJh"
      },
      "execution_count": 1,
      "outputs": []
    },
    {
      "cell_type": "code",
      "source": [
        "discriminator = build_discriminator()"
      ],
      "metadata": {
        "id": "lZo_6o5R4Hx2"
      },
      "execution_count": 5,
      "outputs": []
    },
    {
      "cell_type": "code",
      "source": [
        "#discriminator.summary()"
      ],
      "metadata": {
        "id": "qUjqyI0f4NZw"
      },
      "execution_count": 6,
      "outputs": []
    },
    {
      "cell_type": "code",
      "source": [
        "from keras.layers.convolutional import Conv1DTranspose\n",
        "from keras.layers import Reshape\n",
        "\n",
        "def build_generator(input_shape=(98, )):\n",
        "\n",
        "  X_input = Input(input_shape)\n",
        "  \n",
        "  y = Dense(input_shape[0] * 128)(X_input)\n",
        "  y = Reshape((input_shape[0], 128))(y)\n",
        "  y = Conv1DTranspose(128, kernel_size=7, strides=5, padding='same')(y)\n",
        "  y = LeakyReLU()(y)\n",
        "  y = Conv1DTranspose(128, kernel_size=7, strides=5, padding='same')(y)\n",
        "  y = LeakyReLU()(y)\n",
        "  y = Conv1DTranspose(256, kernel_size=7, strides=5, padding='same')(y)\n",
        "  y = LeakyReLU()(y)\n",
        "  y = Conv1DTranspose(256, kernel_size=3, strides=3, padding='same')(y)\n",
        "  y = LeakyReLU()(y)\n",
        "  y = Conv1DTranspose(512, kernel_size=3, strides=3, padding='same')(y)\n",
        "  y = LeakyReLU()(y)\n",
        "  y = Conv1D(1, kernel_size=3, padding='same', activation='tanh')(y)\n",
        "\n",
        "\n",
        "  model = Model(inputs = X_input, outputs = y)\n",
        "  return model"
      ],
      "metadata": {
        "id": "-U8M7G3BrtII"
      },
      "execution_count": 28,
      "outputs": []
    },
    {
      "cell_type": "code",
      "source": [
        "generator = build_generator()"
      ],
      "metadata": {
        "id": "VefRbGeltjBJ"
      },
      "execution_count": 29,
      "outputs": []
    },
    {
      "cell_type": "code",
      "source": [
        "generator.summary()"
      ],
      "metadata": {
        "colab": {
          "base_uri": "https://localhost:8080/"
        },
        "id": "a1k1rRVGtlZf",
        "outputId": "2a93e597-8212-4d0f-9ba7-868f82eda1c1"
      },
      "execution_count": 30,
      "outputs": [
        {
          "output_type": "stream",
          "name": "stdout",
          "text": [
            "Model: \"model_8\"\n",
            "_________________________________________________________________\n",
            " Layer (type)                Output Shape              Param #   \n",
            "=================================================================\n",
            " input_10 (InputLayer)       [(None, 98)]              0         \n",
            "                                                                 \n",
            " dense_12 (Dense)            (None, 12544)             1241856   \n",
            "                                                                 \n",
            " reshape_9 (Reshape)         (None, 98, 128)           0         \n",
            "                                                                 \n",
            " conv1d_transpose_43 (Conv1D  (None, 490, 128)         114816    \n",
            " Transpose)                                                      \n",
            "                                                                 \n",
            " leaky_re_lu_43 (LeakyReLU)  (None, 490, 128)          0         \n",
            "                                                                 \n",
            " conv1d_transpose_44 (Conv1D  (None, 2450, 128)        114816    \n",
            " Transpose)                                                      \n",
            "                                                                 \n",
            " leaky_re_lu_44 (LeakyReLU)  (None, 2450, 128)         0         \n",
            "                                                                 \n",
            " conv1d_transpose_45 (Conv1D  (None, 12250, 256)       229632    \n",
            " Transpose)                                                      \n",
            "                                                                 \n",
            " leaky_re_lu_45 (LeakyReLU)  (None, 12250, 256)        0         \n",
            "                                                                 \n",
            " conv1d_transpose_46 (Conv1D  (None, 36750, 256)       196864    \n",
            " Transpose)                                                      \n",
            "                                                                 \n",
            " leaky_re_lu_46 (LeakyReLU)  (None, 36750, 256)        0         \n",
            "                                                                 \n",
            " conv1d_transpose_47 (Conv1D  (None, 110250, 512)      393728    \n",
            " Transpose)                                                      \n",
            "                                                                 \n",
            " leaky_re_lu_47 (LeakyReLU)  (None, 110250, 512)       0         \n",
            "                                                                 \n",
            " conv1d_6 (Conv1D)           (None, 110250, 1)         1537      \n",
            "                                                                 \n",
            "=================================================================\n",
            "Total params: 2,293,249\n",
            "Trainable params: 2,293,249\n",
            "Non-trainable params: 0\n",
            "_________________________________________________________________\n"
          ]
        }
      ]
    }
  ]
}