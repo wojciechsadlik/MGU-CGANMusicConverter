{
  "nbformat": 4,
  "nbformat_minor": 0,
  "metadata": {
    "colab": {
      "name": "raw_audio_classifier.ipynb",
      "provenance": [],
      "collapsed_sections": [],
      "include_colab_link": true
    },
    "kernelspec": {
      "name": "python3",
      "display_name": "Python 3"
    },
    "language_info": {
      "name": "python"
    },
    "accelerator": "GPU"
  },
  "cells": [
    {
      "cell_type": "markdown",
      "metadata": {
        "id": "view-in-github",
        "colab_type": "text"
      },
      "source": [
        "<a href=\"https://colab.research.google.com/github/wojciechsadlik/MGU-CGANMusicConverter/blob/main/raw_audio_classifier.ipynb\" target=\"_parent\"><img src=\"https://colab.research.google.com/assets/colab-badge.svg\" alt=\"Open In Colab\"/></a>"
      ]
    },
    {
      "cell_type": "code",
      "source": [
        "from google.colab import drive\n",
        "drive.mount('/content/drive')"
      ],
      "metadata": {
        "colab": {
          "base_uri": "https://localhost:8080/"
        },
        "id": "ptxJ4VdA_iXs",
        "outputId": "9a37cfff-9ee9-48ef-8e7d-38a33dce3daa"
      },
      "execution_count": 2,
      "outputs": [
        {
          "output_type": "stream",
          "name": "stdout",
          "text": [
            "Drive already mounted at /content/drive; to attempt to forcibly remount, call drive.mount(\"/content/drive\", force_remount=True).\n"
          ]
        }
      ]
    },
    {
      "cell_type": "code",
      "source": [
        "%cd /content/drive/MyDrive/Colab Notebooks/MGU-CGANMusicConverter"
      ],
      "metadata": {
        "colab": {
          "base_uri": "https://localhost:8080/"
        },
        "id": "BBmoDT1J_0ye",
        "outputId": "8306835a-74fd-41be-9a42-a2f89677f5be"
      },
      "execution_count": 1,
      "outputs": [
        {
          "output_type": "stream",
          "name": "stdout",
          "text": [
            "/content/drive/MyDrive/Colab Notebooks/MGU-CGANMusicConverter\n"
          ]
        }
      ]
    },
    {
      "cell_type": "code",
      "source": [
        "import os\n",
        "import pickle\n",
        "import numpy as np\n",
        "from glob import glob\n",
        "from keras.utils.np_utils import to_categorical"
      ],
      "metadata": {
        "id": "YRIext58ATbI"
      },
      "execution_count": 2,
      "outputs": []
    },
    {
      "cell_type": "code",
      "source": [
        "def get_data(file_list):\n",
        "  def load_into(filename, x, y):\n",
        "    with open(filename, 'rb') as f:\n",
        "      pkl_file = pickle.load(f)\n",
        "      x.append(pkl_file['audio'])\n",
        "      y.append(int(pkl_file['class_id']))\n",
        "\n",
        "  x, y = [], []\n",
        "  for filename in file_list:\n",
        "    load_into(filename, x, y)\n",
        "\n",
        "  return np.array(x), np.array(y)"
      ],
      "metadata": {
        "id": "r18aIWTlA_kt"
      },
      "execution_count": 3,
      "outputs": []
    },
    {
      "cell_type": "code",
      "execution_count": 4,
      "metadata": {
        "colab": {
          "base_uri": "https://localhost:8080/"
        },
        "id": "ik7ctZiX3LZY",
        "outputId": "0927e290-b095-4749-f16b-00e92378a578"
      },
      "outputs": [
        {
          "output_type": "stream",
          "name": "stdout",
          "text": [
            "x_train.shape = (4800, 110250, 1)\n",
            "y_train.shape = (4800, 10)\n",
            "x_train.len = 4800\n",
            "y_train.len = 4800\n",
            "[0. 1. 0. 0. 0. 0. 0. 0. 0. 0.]\n"
          ]
        }
      ],
      "source": [
        "OUTPUT_DIR_TRAIN = './audio_splitting/output/train'\n",
        "OUTPUT_DIR_TEST = './audio_splitting/output/test'\n",
        "num_classes = 10\n",
        "\n",
        "train_files = glob(os.path.join(OUTPUT_DIR_TRAIN, '**.pkl'))\n",
        "x_train, y_train = get_data(train_files)\n",
        "\n",
        "y_train = to_categorical(y_train, num_classes=num_classes)\n",
        "\n",
        "#test_files = glob(os.path.join(OUTPUT_DIR_TEST, '**.pkl'))\n",
        "#x_test, y_test = get_data(test_files)\n",
        "#y_test = to_categorical(y_test, num_classes=num_classes)\n",
        "\n",
        "print('x_train.shape =', x_train.shape)\n",
        "print('y_train.shape =', y_train.shape)\n",
        "#print('x_test.shape =', x_test.shape)\n",
        "#print('y_test.shape =', y_test.shape)\n",
        "print('x_train.len =', len(x_train))\n",
        "print('y_train.len =', len(y_train))\n",
        "#print('x_test.len =', len(x_test))\n",
        "#print('y_test.len =', len(y_test))\n",
        "print(y_train[4799])"
      ]
    },
    {
      "cell_type": "code",
      "source": [
        "from keras.layers.pooling import MaxPooling1D\n",
        "from keras.backend import in_top_k\n",
        "from keras.models import Model\n",
        "from keras.layers.convolutional import Conv1D\n",
        "from keras import regularizers, Input\n",
        "from tensorflow.keras.layers import BatchNormalization\n",
        "from keras.layers.core import Activation\n",
        "from keras.layers import LeakyReLU, Add, Dense, Flatten\n",
        "from tensorflow.keras.utils import plot_model\n",
        "\n",
        "AUDIO_LENGTH = 110250\n",
        "\n",
        "def add_Res1D(y, kernel_size, filters, strides=1, downsample=False):\n",
        "  y_shortcut = y\n",
        "\n",
        "  y = Conv1D(filters=filters, kernel_size=kernel_size, strides=strides, padding='same')(y)\n",
        "  y = BatchNormalization()(y)\n",
        "  y = LeakyReLU()(y)\n",
        "  y = Conv1D(filters=filters, kernel_size=kernel_size, strides=strides, padding='same')(y)\n",
        "  y = BatchNormalization()(y)\n",
        "\n",
        "  if downsample:\n",
        "    y_shortcut = Conv1D(filters=filters, kernel_size=1, strides=strides, padding='same')(y_shortcut)\n",
        "\n",
        "  y = Add()([y_shortcut, y])\n",
        "  y = LeakyReLU()(y)\n",
        "\n",
        "  return y\n",
        "\n",
        "\n",
        "def classifier(input_shape=[AUDIO_LENGTH, 1], num_classes=10):\n",
        "\n",
        "  X_input = Input(input_shape)\n",
        "  \n",
        "  y = Conv1D(128, kernel_size=3, strides=3, padding='same')(X_input)\n",
        "  y = add_Res1D(y, 3, 128)\n",
        "  y = MaxPooling1D(pool_size=3, strides=3)(y)\n",
        "  y = add_Res1D(y, 3, 128)\n",
        "  y = MaxPooling1D(pool_size=3, strides=3)(y)\n",
        "  y = add_Res1D(y, 3, 256, downsample=True)\n",
        "  y = MaxPooling1D(pool_size=3, strides=3)(y)\n",
        "  y = add_Res1D(y, 3, 256)\n",
        "  y = MaxPooling1D(pool_size=3, strides=3)(y)\n",
        "  y = add_Res1D(y, 3, 256)\n",
        "  y = MaxPooling1D(pool_size=3, strides=3)(y)\n",
        "  y = add_Res1D(y, 3, 256)\n",
        "  y = MaxPooling1D(pool_size=3, strides=3)(y)\n",
        "  y = add_Res1D(y, 3, 256)\n",
        "  y = MaxPooling1D(pool_size=3, strides=3)(y)\n",
        "  y = add_Res1D(y, 3, 256)\n",
        "  y = MaxPooling1D(pool_size=3, strides=3)(y)\n",
        "  y = add_Res1D(y, 3, 512, downsample=True)\n",
        "  y = MaxPooling1D(pool_size=3, strides=3)(y)\n",
        "  y = Conv1D(512, kernel_size=1, strides=1, padding='same')(y)\n",
        "  y = Flatten()(y)\n",
        "  y = Dense(10, activation='softmax')(y)\n",
        "\n",
        "  model = Model(inputs = X_input, outputs = y)\n",
        "  return model"
      ],
      "metadata": {
        "id": "e8yYg2MnKF0w"
      },
      "execution_count": 5,
      "outputs": []
    },
    {
      "cell_type": "code",
      "source": [
        "model = classifier()\n",
        "model.compile(optimizer='adam', loss='categorical_crossentropy', metrics=['accuracy'])\n",
        "\n",
        "#plot_model(model, show_shapes=True)"
      ],
      "metadata": {
        "id": "Bg8VBQB5zBgp"
      },
      "execution_count": 6,
      "outputs": []
    },
    {
      "cell_type": "code",
      "source": [
        "history = model.fit(x_train, y_train, epochs=1)"
      ],
      "metadata": {
        "id": "bEyL8334cHvJ"
      },
      "execution_count": null,
      "outputs": []
    }
  ]
}