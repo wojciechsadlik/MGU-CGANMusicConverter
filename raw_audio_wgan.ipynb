{
  "nbformat": 4,
  "nbformat_minor": 0,
  "metadata": {
    "colab": {
      "name": "raw_audio_wgan.ipynb",
      "provenance": [],
      "collapsed_sections": [],
      "authorship_tag": "ABX9TyMt1Dtg1KJ+NI1ZfLEaaw8M",
      "include_colab_link": true
    },
    "kernelspec": {
      "name": "python3",
      "display_name": "Python 3"
    },
    "language_info": {
      "name": "python"
    },
    "accelerator": "GPU"
  },
  "cells": [
    {
      "cell_type": "markdown",
      "metadata": {
        "id": "view-in-github",
        "colab_type": "text"
      },
      "source": [
        "<a href=\"https://colab.research.google.com/github/wojciechsadlik/MGU-CGANMusicConverter/blob/main/raw_audio_wgan.ipynb\" target=\"_parent\"><img src=\"https://colab.research.google.com/assets/colab-badge.svg\" alt=\"Open In Colab\"/></a>"
      ]
    },
    {
      "cell_type": "code",
      "execution_count": 1,
      "metadata": {
        "id": "pRSEMDDlqXMQ",
        "colab": {
          "base_uri": "https://localhost:8080/"
        },
        "outputId": "53c2ee75-fc18-4391-ea7a-bea6b1396762"
      },
      "outputs": [
        {
          "output_type": "stream",
          "name": "stdout",
          "text": [
            "Drive already mounted at /content/drive; to attempt to forcibly remount, call drive.mount(\"/content/drive\", force_remount=True).\n"
          ]
        }
      ],
      "source": [
        "from google.colab import drive\n",
        "drive.mount('/content/drive')"
      ]
    },
    {
      "cell_type": "code",
      "source": [
        "%cd /content/drive/MyDrive/Colab Notebooks/MGU-CGANMusicConverter"
      ],
      "metadata": {
        "colab": {
          "base_uri": "https://localhost:8080/"
        },
        "id": "TmizoChIFpqn",
        "outputId": "5215fa8d-7eab-4673-af66-25125e7c209b"
      },
      "execution_count": 2,
      "outputs": [
        {
          "output_type": "stream",
          "name": "stdout",
          "text": [
            "/content/drive/MyDrive/Colab Notebooks/MGU-CGANMusicConverter\n"
          ]
        }
      ]
    },
    {
      "cell_type": "code",
      "source": [
        "import os\n",
        "import pickle\n",
        "import numpy as np\n",
        "from glob import glob\n",
        "from keras.utils.np_utils import to_categorical"
      ],
      "metadata": {
        "id": "Gs6h4Ks9qeSJ"
      },
      "execution_count": 3,
      "outputs": []
    },
    {
      "cell_type": "code",
      "source": [
        "def get_data(file_list):\n",
        "  def load_into(filename, x, y):\n",
        "    with open(filename, 'rb') as f:\n",
        "      pkl_file = pickle.load(f)\n",
        "      x.append(pkl_file['audio'])\n",
        "      y.append(int(pkl_file['class_id']))\n",
        "\n",
        "  x, y = [], []\n",
        "  for filename in file_list:\n",
        "    load_into(filename, x, y)\n",
        "\n",
        "  return np.array(x), np.array(y)"
      ],
      "metadata": {
        "id": "j1YeP0D_qnGa"
      },
      "execution_count": 4,
      "outputs": []
    },
    {
      "cell_type": "code",
      "source": [
        "from keras import backend\n",
        "\n",
        "def wasserstein_loss(y_true, y_pred):\n",
        "  return backend.mean(y_true * y_pred)"
      ],
      "metadata": {
        "id": "RcdBkbqGZY_3"
      },
      "execution_count": 5,
      "outputs": []
    },
    {
      "cell_type": "code",
      "source": [
        "from keras.constraints import Constraint\n",
        "\n",
        "class ClipConstraint(Constraint):\n",
        "  def __init__(self, clip_value):\n",
        "    self.clip_value = clip_value\n",
        "\n",
        "  def __call__(self, weights):\n",
        "    return backend.clip(weights, -self.clip_value, self.clip_value)\n",
        "\n",
        "  def get_config(self):\n",
        "    return {'clip_value': self.clip_value}\n",
        "\n",
        "wasserstein_constraint = ClipConstraint(0.01)"
      ],
      "metadata": {
        "id": "woHgEYD9ZpCx"
      },
      "execution_count": 6,
      "outputs": []
    },
    {
      "cell_type": "code",
      "source": [
        "from keras.layers.pooling import MaxPooling1D\n",
        "from keras.backend import in_top_k\n",
        "from keras.models import Model\n",
        "from keras.layers.convolutional import Conv1D\n",
        "from keras import regularizers, Input\n",
        "from tensorflow.keras.layers import BatchNormalization\n",
        "from keras.layers.core import Activation\n",
        "from keras.layers import LeakyReLU, Add, Dense, Flatten\n",
        "from tensorflow.keras.utils import plot_model\n",
        "from tensorflow.keras.optimizers import Adam\n",
        "\n",
        "AUDIO_LENGTH = 110250\n",
        "\n",
        "def build_critic(input_shape=[AUDIO_LENGTH, 1]):\n",
        "\n",
        "  X_input = Input(input_shape)\n",
        "  \n",
        "  y = Conv1D(128, kernel_size=7, strides=5,\n",
        "             kernel_constraint=wasserstein_constraint, padding='same')(X_input)\n",
        "  y = BatchNormalization()(y)\n",
        "  y = LeakyReLU()(y)\n",
        "  y = Conv1D(64, kernel_size=7, strides=5,\n",
        "             kernel_constraint=wasserstein_constraint, padding='same')(y)\n",
        "  y = BatchNormalization()(y)\n",
        "  y = LeakyReLU()(y)\n",
        "  y = Conv1D(32, kernel_size=3, strides=3,\n",
        "             kernel_constraint=wasserstein_constraint, padding='same')(y)\n",
        "  y = BatchNormalization()(y)\n",
        "  y = LeakyReLU()(y)\n",
        "  y = Flatten()(y)\n",
        "  y = Dense(1, activation='linear')(y)\n",
        "\n",
        "  model = Model(inputs = X_input, outputs = y)\n",
        "\n",
        "  model.summary()\n",
        "\n",
        "  return model"
      ],
      "metadata": {
        "id": "-L00GaRwqqJh"
      },
      "execution_count": 7,
      "outputs": []
    },
    {
      "cell_type": "code",
      "source": [
        "from tensorflow.keras.optimizers import RMSprop\n",
        "\n",
        "critic = build_critic()\n",
        "critic.compile(loss=wasserstein_loss, optimizer=RMSprop(lr=0.00005), metrics=['accuracy'])"
      ],
      "metadata": {
        "id": "lZo_6o5R4Hx2",
        "colab": {
          "base_uri": "https://localhost:8080/"
        },
        "outputId": "c11d8502-f74a-49dd-cdc9-4d229ae58ace"
      },
      "execution_count": 8,
      "outputs": [
        {
          "output_type": "stream",
          "name": "stdout",
          "text": [
            "Model: \"model\"\n",
            "_________________________________________________________________\n",
            " Layer (type)                Output Shape              Param #   \n",
            "=================================================================\n",
            " input_1 (InputLayer)        [(None, 110250, 1)]       0         \n",
            "                                                                 \n",
            " conv1d (Conv1D)             (None, 22050, 128)        1024      \n",
            "                                                                 \n",
            " batch_normalization (BatchN  (None, 22050, 128)       512       \n",
            " ormalization)                                                   \n",
            "                                                                 \n",
            " leaky_re_lu (LeakyReLU)     (None, 22050, 128)        0         \n",
            "                                                                 \n",
            " conv1d_1 (Conv1D)           (None, 4410, 64)          57408     \n",
            "                                                                 \n",
            " batch_normalization_1 (Batc  (None, 4410, 64)         256       \n",
            " hNormalization)                                                 \n",
            "                                                                 \n",
            " leaky_re_lu_1 (LeakyReLU)   (None, 4410, 64)          0         \n",
            "                                                                 \n",
            " conv1d_2 (Conv1D)           (None, 1470, 32)          6176      \n",
            "                                                                 \n",
            " batch_normalization_2 (Batc  (None, 1470, 32)         128       \n",
            " hNormalization)                                                 \n",
            "                                                                 \n",
            " leaky_re_lu_2 (LeakyReLU)   (None, 1470, 32)          0         \n",
            "                                                                 \n",
            " flatten (Flatten)           (None, 47040)             0         \n",
            "                                                                 \n",
            " dense (Dense)               (None, 1)                 47041     \n",
            "                                                                 \n",
            "=================================================================\n",
            "Total params: 112,545\n",
            "Trainable params: 112,097\n",
            "Non-trainable params: 448\n",
            "_________________________________________________________________\n"
          ]
        },
        {
          "output_type": "stream",
          "name": "stderr",
          "text": [
            "/usr/local/lib/python3.7/dist-packages/keras/optimizer_v2/rmsprop.py:130: UserWarning: The `lr` argument is deprecated, use `learning_rate` instead.\n",
            "  super(RMSprop, self).__init__(name, **kwargs)\n"
          ]
        }
      ]
    },
    {
      "cell_type": "code",
      "source": [
        ""
      ],
      "metadata": {
        "id": "DXbt12Mtv6Ce"
      },
      "execution_count": 8,
      "outputs": []
    },
    {
      "cell_type": "code",
      "source": [
        "from keras.layers.convolutional import Conv1DTranspose\n",
        "from keras.layers import Reshape\n",
        "\n",
        "LATENT_DIM = 98\n",
        "\n",
        "def build_generator(input_shape=(LATENT_DIM, )):\n",
        "\n",
        "  X_input = Input(input_shape)\n",
        "  \n",
        "  y = Dense(input_shape[0] * 128)(X_input)\n",
        "  y = Reshape((input_shape[0], 128))(y)\n",
        "  y = BatchNormalization()(y)\n",
        "  y = Conv1DTranspose(128, kernel_size=3, strides=3, padding='same')(y)\n",
        "  y = BatchNormalization()(y)\n",
        "  y = LeakyReLU()(y)\n",
        "  y = Conv1DTranspose(128, kernel_size=3, strides=3, padding='same')(y)\n",
        "  y = BatchNormalization()(y)\n",
        "  y = LeakyReLU()(y)\n",
        "  y = Conv1DTranspose(64, kernel_size=7, strides=5, padding='same')(y)\n",
        "  y = BatchNormalization()(y)\n",
        "  y = LeakyReLU()(y)\n",
        "  y = Conv1DTranspose(64, kernel_size=7, strides=5, padding='same')(y)\n",
        "  y = BatchNormalization()(y)\n",
        "  y = LeakyReLU()(y)\n",
        "  y = Conv1DTranspose(64, kernel_size=7, strides=5, padding='same')(y)\n",
        "  y = BatchNormalization()(y)\n",
        "  y = LeakyReLU()(y)\n",
        "  y = Conv1D(1, kernel_size=3, padding='same', activation='tanh')(y)\n",
        "\n",
        "\n",
        "  model = Model(inputs = X_input, outputs = y)\n",
        "\n",
        "  model.summary()\n",
        "\n",
        "  return model"
      ],
      "metadata": {
        "id": "-U8M7G3BrtII"
      },
      "execution_count": 9,
      "outputs": []
    },
    {
      "cell_type": "code",
      "source": [
        "generator = build_generator()"
      ],
      "metadata": {
        "id": "VefRbGeltjBJ",
        "colab": {
          "base_uri": "https://localhost:8080/"
        },
        "outputId": "acf6a250-44c6-44c8-ee54-2d1554bd7e50"
      },
      "execution_count": 10,
      "outputs": [
        {
          "output_type": "stream",
          "name": "stdout",
          "text": [
            "Model: \"model_1\"\n",
            "_________________________________________________________________\n",
            " Layer (type)                Output Shape              Param #   \n",
            "=================================================================\n",
            " input_2 (InputLayer)        [(None, 98)]              0         \n",
            "                                                                 \n",
            " dense_1 (Dense)             (None, 12544)             1241856   \n",
            "                                                                 \n",
            " reshape (Reshape)           (None, 98, 128)           0         \n",
            "                                                                 \n",
            " batch_normalization_3 (Batc  (None, 98, 128)          512       \n",
            " hNormalization)                                                 \n",
            "                                                                 \n",
            " conv1d_transpose (Conv1DTra  (None, 294, 128)         49280     \n",
            " nspose)                                                         \n",
            "                                                                 \n",
            " batch_normalization_4 (Batc  (None, 294, 128)         512       \n",
            " hNormalization)                                                 \n",
            "                                                                 \n",
            " leaky_re_lu_3 (LeakyReLU)   (None, 294, 128)          0         \n",
            "                                                                 \n",
            " conv1d_transpose_1 (Conv1DT  (None, 882, 128)         49280     \n",
            " ranspose)                                                       \n",
            "                                                                 \n",
            " batch_normalization_5 (Batc  (None, 882, 128)         512       \n",
            " hNormalization)                                                 \n",
            "                                                                 \n",
            " leaky_re_lu_4 (LeakyReLU)   (None, 882, 128)          0         \n",
            "                                                                 \n",
            " conv1d_transpose_2 (Conv1DT  (None, 4410, 64)         57408     \n",
            " ranspose)                                                       \n",
            "                                                                 \n",
            " batch_normalization_6 (Batc  (None, 4410, 64)         256       \n",
            " hNormalization)                                                 \n",
            "                                                                 \n",
            " leaky_re_lu_5 (LeakyReLU)   (None, 4410, 64)          0         \n",
            "                                                                 \n",
            " conv1d_transpose_3 (Conv1DT  (None, 22050, 64)        28736     \n",
            " ranspose)                                                       \n",
            "                                                                 \n",
            " batch_normalization_7 (Batc  (None, 22050, 64)        256       \n",
            " hNormalization)                                                 \n",
            "                                                                 \n",
            " leaky_re_lu_6 (LeakyReLU)   (None, 22050, 64)         0         \n",
            "                                                                 \n",
            " conv1d_transpose_4 (Conv1DT  (None, 110250, 64)       28736     \n",
            " ranspose)                                                       \n",
            "                                                                 \n",
            " batch_normalization_8 (Batc  (None, 110250, 64)       256       \n",
            " hNormalization)                                                 \n",
            "                                                                 \n",
            " leaky_re_lu_7 (LeakyReLU)   (None, 110250, 64)        0         \n",
            "                                                                 \n",
            " conv1d_3 (Conv1D)           (None, 110250, 1)         193       \n",
            "                                                                 \n",
            "=================================================================\n",
            "Total params: 1,457,793\n",
            "Trainable params: 1,456,641\n",
            "Non-trainable params: 1,152\n",
            "_________________________________________________________________\n"
          ]
        }
      ]
    },
    {
      "cell_type": "code",
      "source": [
        "z = Input(shape=(LATENT_DIM,))\n",
        "sample = generator(z)\n",
        "critic.trainable = False\n",
        "valid = critic(sample)\n",
        "combined_model = Model(z, valid)\n",
        "combined_model.compile(loss=wasserstein_loss, optimizer=RMSprop(lr=0.00005))\n",
        "combined_model.summary()"
      ],
      "metadata": {
        "id": "Fp2b6W8SuPHv",
        "colab": {
          "base_uri": "https://localhost:8080/"
        },
        "outputId": "c1654505-58bf-401d-c597-3aed95a257d1"
      },
      "execution_count": 11,
      "outputs": [
        {
          "output_type": "stream",
          "name": "stdout",
          "text": [
            "Model: \"model_2\"\n",
            "_________________________________________________________________\n",
            " Layer (type)                Output Shape              Param #   \n",
            "=================================================================\n",
            " input_3 (InputLayer)        [(None, 98)]              0         \n",
            "                                                                 \n",
            " model_1 (Functional)        (None, 110250, 1)         1457793   \n",
            "                                                                 \n",
            " model (Functional)          (None, 1)                 112545    \n",
            "                                                                 \n",
            "=================================================================\n",
            "Total params: 1,570,338\n",
            "Trainable params: 1,456,641\n",
            "Non-trainable params: 113,697\n",
            "_________________________________________________________________\n"
          ]
        },
        {
          "output_type": "stream",
          "name": "stderr",
          "text": [
            "/usr/local/lib/python3.7/dist-packages/keras/optimizer_v2/rmsprop.py:130: UserWarning: The `lr` argument is deprecated, use `learning_rate` instead.\n",
            "  super(RMSprop, self).__init__(name, **kwargs)\n"
          ]
        }
      ]
    },
    {
      "cell_type": "code",
      "source": [
        "from numpy.random import default_rng\n",
        "\n",
        "rng = default_rng()\n",
        "\n",
        "batch_size = 32\n",
        "half_batch = int(batch_size / 2)\n",
        "n_steps = 16 * 5\n",
        "n_critic = 5\n",
        "\n",
        "real_labels = -np.ones((batch_size, 1))\n",
        "fake_labels = np.ones((batch_size, 1))\n",
        "\n",
        "DATASET_PATH = './audio_splitting/genres/jazz'\n",
        "SAMPLES_LIST = os.listdir(DATASET_PATH)\n",
        "SAMPLES_NUM = len(SAMPLES_LIST)\n",
        "d_loss_history = []\n",
        "d_acc_history = []\n",
        "g_loss_history = []"
      ],
      "metadata": {
        "id": "a1k1rRVGtlZf"
      },
      "execution_count": 12,
      "outputs": []
    },
    {
      "cell_type": "code",
      "source": [
        "batches_num = int(SAMPLES_NUM/half_batch)\n",
        "\n",
        "for step in range(n_steps):\n",
        "  d_loss_sum = 0\n",
        "  d_acc_sum = 0\n",
        "\n",
        "  for critic_step in range(n_critic):\n",
        "    batch_idx = rng.choice(SAMPLES_NUM, size=half_batch)\n",
        "    \n",
        "    real_samples, _ = get_data([\n",
        "        os.path.join(DATASET_PATH, SAMPLES_LIST[i]) for i in batch_idx\n",
        "      ])\n",
        "    \n",
        "    noise = np.random.normal(0, 1, (batch_size, LATENT_DIM))\n",
        "    gen_samples = generator.predict(noise[0:half_batch])\n",
        "\n",
        "    d_loss_real = critic.train_on_batch(real_samples, real_labels[0:half_batch])\n",
        "    d_loss_fake = critic.train_on_batch(gen_samples, fake_labels[0:half_batch])\n",
        "    d_loss = 0.5 * np.add(d_loss_real, d_loss_fake)\n",
        "    \n",
        "    d_loss_sum += d_loss[0]\n",
        "    d_acc_sum += d_loss[1]\n",
        "\n",
        "  g_loss = combined_model.train_on_batch(noise, real_labels)\n",
        "\n",
        "  d_loss_history.append(d_loss_sum/n_critic)\n",
        "  g_loss_history.append(g_loss)\n",
        "  d_acc_history.append(100*d_acc_sum/n_critic)\n",
        "  \n",
        "  print(\"%d [D loss: %f, acc.: %.2f%%] [G loss: %f]\"\n",
        "    % (step, d_loss_sum/n_critic, 100*d_acc_sum/n_critic, g_loss))"
      ],
      "metadata": {
        "id": "Zt8gSem7EQ_q",
        "colab": {
          "base_uri": "https://localhost:8080/"
        },
        "outputId": "9f017adb-c053-428a-ea81-79e687780f3f"
      },
      "execution_count": 13,
      "outputs": [
        {
          "output_type": "stream",
          "name": "stdout",
          "text": [
            "0 [D loss: -1.000816, acc.: 0.00%] [G loss: -0.027076]\n",
            "1 [D loss: -2.558409, acc.: 0.00%] [G loss: -0.058547]\n",
            "2 [D loss: -4.219911, acc.: 0.00%] [G loss: -0.101444]\n",
            "3 [D loss: -5.745724, acc.: 0.00%] [G loss: -0.156379]\n",
            "4 [D loss: -7.639017, acc.: 0.00%] [G loss: -0.234599]\n",
            "5 [D loss: -9.248163, acc.: 0.00%] [G loss: -0.323863]\n",
            "6 [D loss: -10.643145, acc.: 0.00%] [G loss: -0.434470]\n",
            "7 [D loss: -12.698095, acc.: 0.00%] [G loss: -0.579683]\n",
            "8 [D loss: -14.184715, acc.: 0.00%] [G loss: -0.747379]\n",
            "9 [D loss: -16.280625, acc.: 1.88%] [G loss: -0.942210]\n",
            "10 [D loss: -18.364073, acc.: 1.25%] [G loss: -1.164633]\n",
            "11 [D loss: -20.239671, acc.: 1.88%] [G loss: -1.406460]\n",
            "12 [D loss: -21.984779, acc.: 1.25%] [G loss: -1.676814]\n",
            "13 [D loss: -24.958735, acc.: 0.00%] [G loss: -1.949651]\n",
            "14 [D loss: -26.836440, acc.: 1.25%] [G loss: -2.280140]\n",
            "15 [D loss: -28.968344, acc.: 0.00%] [G loss: -2.645200]\n",
            "16 [D loss: -30.320784, acc.: 0.00%] [G loss: -3.023952]\n",
            "17 [D loss: -33.361674, acc.: 0.00%] [G loss: -3.421662]\n",
            "18 [D loss: -35.941640, acc.: 0.00%] [G loss: -3.852170]\n",
            "19 [D loss: -37.323075, acc.: 0.00%] [G loss: -4.241183]\n",
            "20 [D loss: -39.558630, acc.: 0.00%] [G loss: -4.656976]\n",
            "21 [D loss: -43.143216, acc.: 0.00%] [G loss: -5.133836]\n",
            "22 [D loss: -45.859224, acc.: 0.00%] [G loss: -5.651315]\n",
            "23 [D loss: -47.123922, acc.: 0.00%] [G loss: -6.247465]\n",
            "24 [D loss: -49.481562, acc.: 0.00%] [G loss: -6.912481]\n",
            "25 [D loss: -52.475762, acc.: 0.00%] [G loss: -7.829141]\n",
            "26 [D loss: -53.632089, acc.: 0.00%] [G loss: -9.034466]\n",
            "27 [D loss: -56.073842, acc.: 0.00%] [G loss: -10.510441]\n",
            "28 [D loss: -58.367844, acc.: 0.00%] [G loss: -12.504910]\n",
            "29 [D loss: -61.434620, acc.: 0.00%] [G loss: -15.018908]\n",
            "30 [D loss: -64.266011, acc.: 0.00%] [G loss: -18.754131]\n",
            "31 [D loss: -66.747437, acc.: 0.00%] [G loss: -23.723003]\n",
            "32 [D loss: -68.413639, acc.: 0.00%] [G loss: -29.741255]\n",
            "33 [D loss: -70.612402, acc.: 1.25%] [G loss: -36.888710]\n",
            "34 [D loss: -74.114907, acc.: 5.00%] [G loss: -45.217060]\n",
            "35 [D loss: -73.456547, acc.: 5.62%] [G loss: -55.033707]\n",
            "36 [D loss: -77.253860, acc.: 13.12%] [G loss: -65.135605]\n",
            "37 [D loss: -80.630683, acc.: 19.38%] [G loss: -77.966492]\n",
            "38 [D loss: -82.744671, acc.: 36.25%] [G loss: -89.885193]\n",
            "39 [D loss: -83.960541, acc.: 35.00%] [G loss: -107.264877]\n",
            "40 [D loss: -86.699488, acc.: 47.50%] [G loss: -123.727875]\n",
            "41 [D loss: -91.582935, acc.: 48.75%] [G loss: -142.722748]\n",
            "42 [D loss: -92.117951, acc.: 50.00%] [G loss: -159.768494]\n",
            "43 [D loss: -93.251699, acc.: 49.38%] [G loss: -178.948257]\n",
            "44 [D loss: -97.844646, acc.: 50.00%] [G loss: -211.468414]\n",
            "45 [D loss: -98.853728, acc.: 50.00%] [G loss: -224.532867]\n",
            "46 [D loss: -103.264303, acc.: 50.00%] [G loss: -268.373169]\n",
            "47 [D loss: -102.717189, acc.: 50.00%] [G loss: -288.353241]\n",
            "48 [D loss: -107.001389, acc.: 50.00%] [G loss: -310.484680]\n",
            "49 [D loss: -108.950746, acc.: 50.00%] [G loss: -336.420563]\n",
            "50 [D loss: -111.980279, acc.: 50.00%] [G loss: -396.829895]\n",
            "51 [D loss: -113.492398, acc.: 50.00%] [G loss: -408.233582]\n",
            "52 [D loss: -114.210287, acc.: 50.00%] [G loss: -472.590454]\n",
            "53 [D loss: -119.163375, acc.: 50.00%] [G loss: -476.405457]\n",
            "54 [D loss: -121.023232, acc.: 50.00%] [G loss: -553.773682]\n",
            "55 [D loss: -123.673712, acc.: 50.00%] [G loss: -532.600220]\n",
            "56 [D loss: -126.396615, acc.: 50.00%] [G loss: -595.916138]\n",
            "57 [D loss: -129.277701, acc.: 50.00%] [G loss: -605.777588]\n",
            "58 [D loss: -130.208267, acc.: 50.00%] [G loss: -663.297241]\n",
            "59 [D loss: -134.603736, acc.: 50.00%] [G loss: -663.430908]\n",
            "60 [D loss: -136.663214, acc.: 50.00%] [G loss: -822.691650]\n",
            "61 [D loss: -138.151239, acc.: 50.00%] [G loss: -740.176636]\n",
            "62 [D loss: -139.650472, acc.: 50.00%] [G loss: -915.797729]\n",
            "63 [D loss: -143.383207, acc.: 50.00%] [G loss: -865.942871]\n",
            "64 [D loss: -145.432249, acc.: 50.00%] [G loss: -987.888733]\n",
            "65 [D loss: -148.267150, acc.: 50.00%] [G loss: -851.537598]\n",
            "66 [D loss: -150.764069, acc.: 50.00%] [G loss: -1034.707764]\n",
            "67 [D loss: -153.046312, acc.: 50.00%] [G loss: -909.595093]\n",
            "68 [D loss: -153.287477, acc.: 50.00%] [G loss: -1202.261108]\n",
            "69 [D loss: -155.500677, acc.: 50.00%] [G loss: -959.919067]\n",
            "70 [D loss: -156.634490, acc.: 50.00%] [G loss: -1194.411621]\n",
            "71 [D loss: -162.547007, acc.: 50.00%] [G loss: -1055.598755]\n",
            "72 [D loss: -164.269836, acc.: 50.00%] [G loss: -1297.958130]\n",
            "73 [D loss: -166.238165, acc.: 50.00%] [G loss: -1030.297607]\n",
            "74 [D loss: -167.905946, acc.: 50.00%] [G loss: -1290.466187]\n",
            "75 [D loss: -168.033337, acc.: 50.00%] [G loss: -987.603943]\n",
            "76 [D loss: -173.087614, acc.: 50.00%] [G loss: -1384.466553]\n",
            "77 [D loss: -172.856575, acc.: 50.00%] [G loss: -1059.008789]\n",
            "78 [D loss: -177.083653, acc.: 50.00%] [G loss: -1350.826172]\n",
            "79 [D loss: -179.731387, acc.: 50.00%] [G loss: -1277.431519]\n"
          ]
        }
      ]
    },
    {
      "cell_type": "code",
      "source": [
        "import matplotlib.pyplot as plt\n",
        "\n",
        "noise = np.random.normal(0, 1, (1, LATENT_DIM))\n",
        "gen_sample = generator.predict(noise)\n",
        "gen_sample = gen_sample.reshape(AUDIO_LENGTH, 1)\n",
        "\n",
        "plt.figure(figsize=(15,5))\n",
        "plt.plot(gen_sample[50100 : 100100])\n",
        "plt.show()\n",
        "#plt.savefig('gen_sample_wgan' + str(len(g_loss_history)))"
      ],
      "metadata": {
        "id": "p23OmFpv3tj7",
        "colab": {
          "base_uri": "https://localhost:8080/",
          "height": 320
        },
        "outputId": "7d9bbfa9-9c07-4e64-f2de-2215d9d2f4f1"
      },
      "execution_count": 14,
      "outputs": [
        {
          "output_type": "display_data",
          "data": {
            "image/png": "[encoded data removed]",
            "text/plain": [
              "<Figure size 1080x360 with 1 Axes>"
            ]
          },
          "metadata": {
            "needs_background": "light"
          }
        }
      ]
    },
    {
      "cell_type": "code",
      "source": [
        "generator.save('generator_wgan.h5')\n",
        "critic.save('critic_wgan.h5')"
      ],
      "metadata": {
        "colab": {
          "base_uri": "https://localhost:8080/"
        },
        "id": "CrHZzYAtx8y7",
        "outputId": "37276ec3-26b9-4af8-c4f9-7435068b0495"
      },
      "execution_count": 15,
      "outputs": [
        {
          "output_type": "stream",
          "name": "stdout",
          "text": [
            "WARNING:tensorflow:Compiled the loaded model, but the compiled metrics have yet to be built. `model.compile_metrics` will be empty until you train or evaluate the model.\n"
          ]
        }
      ]
    },
    {
      "cell_type": "code",
      "source": [
        "with open(DATASET_PATH + '/3000.pkl', 'rb') as f:\n",
        "      pkl_file = pickle.load(f)\n",
        "      plt.figure(figsize=(15,5))\n",
        "      plt.plot(pkl_file['audio'][50100 : 100100])\n",
        "      plt.show()\n"
      ],
      "metadata": {
        "id": "bmeM7jgVBiX9",
        "colab": {
          "base_uri": "https://localhost:8080/",
          "height": 320
        },
        "outputId": "38997e22-0815-4075-cce6-0182f67e4694"
      },
      "execution_count": 16,
      "outputs": [
        {
          "output_type": "display_data",
          "data": {
            "image/png": "[encoded data removed]",
            "text/plain": [
              "<Figure size 1080x360 with 1 Axes>"
            ]
          },
          "metadata": {
            "needs_background": "light"
          }
        }
      ]
    },
    {
      "cell_type": "code",
      "source": [
        "plt.figure(figsize=(15,5))\n",
        "plt.plot(d_acc_history)"
      ],
      "metadata": {
        "colab": {
          "base_uri": "https://localhost:8080/",
          "height": 337
        },
        "id": "ViFyh1zo4QOh",
        "outputId": "5705bf09-7524-4a80-bee7-43e591a57c35"
      },
      "execution_count": 17,
      "outputs": [
        {
          "output_type": "execute_result",
          "data": {
            "text/plain": [
              "[<matplotlib.lines.Line2D at 0x7fe1824a0590>]"
            ]
          },
          "metadata": {},
          "execution_count": 17
        },
        {
          "output_type": "display_data",
          "data": {
            "image/png": "[encoded data removed]",
            "text/plain": [
              "<Figure size 1080x360 with 1 Axes>"
            ]
          },
          "metadata": {
            "needs_background": "light"
          }
        }
      ]
    },
    {
      "cell_type": "code",
      "source": [
        "plt.figure(figsize=(15,5))\n",
        "plt.plot(d_loss_history, label='d_loss')\n",
        "plt.plot(g_loss_history, label='g_loss')\n",
        "plt.legend()"
      ],
      "metadata": {
        "colab": {
          "base_uri": "https://localhost:8080/",
          "height": 337
        },
        "id": "VIhgf1mD4aqU",
        "outputId": "34306865-2b90-49de-e745-73abfcecda23"
      },
      "execution_count": 18,
      "outputs": [
        {
          "output_type": "execute_result",
          "data": {
            "text/plain": [
              "<matplotlib.legend.Legend at 0x7fe18249cb50>"
            ]
          },
          "metadata": {},
          "execution_count": 18
        },
        {
          "output_type": "display_data",
          "data": {
            "image/png": "[encoded data removed]",
            "text/plain": [
              "<Figure size 1080x360 with 1 Axes>"
            ]
          },
          "metadata": {
            "needs_background": "light"
          }
        }
      ]
    },
    {
      "cell_type": "code",
      "source": [
        ""
      ],
      "metadata": {
        "id": "sU51x5BO4cGi"
      },
      "execution_count": 18,
      "outputs": []
    }
  ]
}