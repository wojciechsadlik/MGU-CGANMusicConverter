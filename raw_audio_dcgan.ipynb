{
  "nbformat": 4,
  "nbformat_minor": 0,
  "metadata": {
    "colab": {
      "name": "raw_audio_dcgan.ipynb",
      "provenance": [],
      "collapsed_sections": [],
      "authorship_tag": "ABX9TyPCIBA7jvso2ABlOiPq4ssL",
      "include_colab_link": true
    },
    "kernelspec": {
      "name": "python3",
      "display_name": "Python 3"
    },
    "language_info": {
      "name": "python"
    },
    "accelerator": "GPU"
  },
  "cells": [
    {
      "cell_type": "markdown",
      "metadata": {
        "id": "view-in-github",
        "colab_type": "text"
      },
      "source": [
        "<a href=\"https://colab.research.google.com/github/wojciechsadlik/MGU-CGANMusicConverter/blob/main/raw_audio_dcgan.ipynb\" target=\"_parent\"><img src=\"https://colab.research.google.com/assets/colab-badge.svg\" alt=\"Open In Colab\"/></a>"
      ]
    },
    {
      "cell_type": "code",
      "execution_count": 1,
      "metadata": {
        "id": "pRSEMDDlqXMQ",
        "colab": {
          "base_uri": "https://localhost:8080/"
        },
        "outputId": "fffb0309-ad99-4ece-9798-bfa1a657f9f8"
      },
      "outputs": [
        {
          "output_type": "stream",
          "name": "stdout",
          "text": [
            "Drive already mounted at /content/drive; to attempt to forcibly remount, call drive.mount(\"/content/drive\", force_remount=True).\n"
          ]
        }
      ],
      "source": [
        "from google.colab import drive\n",
        "drive.mount('/content/drive')"
      ]
    },
    {
      "cell_type": "code",
      "source": [
        "%cd /content/drive/MyDrive/Colab Notebooks/MGU-CGANMusicConverter"
      ],
      "metadata": {
        "colab": {
          "base_uri": "https://localhost:8080/"
        },
        "id": "TmizoChIFpqn",
        "outputId": "48efa0cc-2fcc-4e2b-a393-14cf1cc15130"
      },
      "execution_count": 2,
      "outputs": [
        {
          "output_type": "stream",
          "name": "stdout",
          "text": [
            "/content/drive/MyDrive/Colab Notebooks/MGU-CGANMusicConverter\n"
          ]
        }
      ]
    },
    {
      "cell_type": "code",
      "source": [
        "import os\n",
        "import pickle\n",
        "import numpy as np\n",
        "from glob import glob\n",
        "from keras.utils.np_utils import to_categorical\n",
        "from librosa.util import normalize"
      ],
      "metadata": {
        "id": "Gs6h4Ks9qeSJ"
      },
      "execution_count": 3,
      "outputs": []
    },
    {
      "cell_type": "code",
      "source": [
        "def get_data(file_list):\n",
        "  def load_into(filename, x, y):\n",
        "    with open(filename, 'rb') as f:\n",
        "      pkl_file = pickle.load(f)\n",
        "      x.append(pkl_file['audio'])\n",
        "      y.append(int(pkl_file['class_id']))\n",
        "\n",
        "  x, y = [], []\n",
        "  for filename in file_list:\n",
        "    load_into(filename, x, y)\n",
        "\n",
        "  return np.array(x), np.array(y)"
      ],
      "metadata": {
        "id": "j1YeP0D_qnGa"
      },
      "execution_count": 4,
      "outputs": []
    },
    {
      "cell_type": "code",
      "source": [
        "from keras.layers.pooling import MaxPooling1D\n",
        "from keras.backend import in_top_k\n",
        "from keras.models import Model\n",
        "from keras.layers.convolutional import Conv1D\n",
        "from keras import regularizers, Input\n",
        "from tensorflow.keras.layers import BatchNormalization\n",
        "from keras.layers.core import Activation\n",
        "from keras.layers import LeakyReLU, Add, Dense, Flatten\n",
        "from tensorflow.keras.utils import plot_model\n",
        "from tensorflow.keras.optimizers import Adam\n",
        "\n",
        "AUDIO_LENGTH = 110250\n",
        "\n",
        "def add_Res1D(y, kernel_size, filters, strides=1, downsample=False):\n",
        "  y_shortcut = y\n",
        "\n",
        "  y = Conv1D(filters=filters, kernel_size=kernel_size, strides=1, padding='same')(y)\n",
        "  y = BatchNormalization()(y)\n",
        "  y = LeakyReLU()(y)\n",
        "  y = Conv1D(filters=filters, kernel_size=kernel_size, strides=strides, padding='same')(y)\n",
        "  y = BatchNormalization()(y)\n",
        "\n",
        "  if downsample or strides > 1:\n",
        "    y_shortcut = Conv1D(filters=filters, kernel_size=1, strides=strides, padding='same')(y_shortcut)\n",
        "\n",
        "  y = Add()([y_shortcut, y])\n",
        "  y = LeakyReLU()(y)\n",
        "\n",
        "  return y\n",
        "\n",
        "\n",
        "def build_discriminator(input_shape=[AUDIO_LENGTH, 1]):\n",
        "\n",
        "  X_input = Input(input_shape)\n",
        "  \n",
        "  y = Conv1D(128, kernel_size=5, strides=4, padding='same')(X_input)\n",
        "  y = BatchNormalization()(y)\n",
        "  y = LeakyReLU()(y)\n",
        "  y = Conv1D(128, kernel_size=5, strides=4, padding='same')(y)\n",
        "  y = BatchNormalization()(y)\n",
        "  y = LeakyReLU()(y)\n",
        "  y = Conv1D(64, kernel_size=5, strides=4, padding='same')(y)\n",
        "  y = BatchNormalization()(y)\n",
        "  y = LeakyReLU()(y)\n",
        "  y = Flatten()(y)\n",
        "  y = Dense(1, activation='sigmoid')(y)\n",
        "\n",
        "  model = Model(inputs = X_input, outputs = y)\n",
        "\n",
        "  model.summary()\n",
        "\n",
        "  return model"
      ],
      "metadata": {
        "id": "-L00GaRwqqJh"
      },
      "execution_count": 5,
      "outputs": []
    },
    {
      "cell_type": "code",
      "source": [
        "discriminator = build_discriminator()\n",
        "discriminator.compile(loss='binary_crossentropy', optimizer=Adam(lr=0.0001, beta_1=0.5), metrics=['accuracy'])"
      ],
      "metadata": {
        "id": "lZo_6o5R4Hx2",
        "colab": {
          "base_uri": "https://localhost:8080/"
        },
        "outputId": "664920b8-e1c9-49aa-f65f-9ce9f326cbba"
      },
      "execution_count": 6,
      "outputs": [
        {
          "output_type": "stream",
          "name": "stdout",
          "text": [
            "Model: \"model\"\n",
            "_________________________________________________________________\n",
            " Layer (type)                Output Shape              Param #   \n",
            "=================================================================\n",
            " input_1 (InputLayer)        [(None, 110250, 1)]       0         \n",
            "                                                                 \n",
            " conv1d (Conv1D)             (None, 27563, 128)        768       \n",
            "                                                                 \n",
            " batch_normalization (BatchN  (None, 27563, 128)       512       \n",
            " ormalization)                                                   \n",
            "                                                                 \n",
            " leaky_re_lu (LeakyReLU)     (None, 27563, 128)        0         \n",
            "                                                                 \n",
            " conv1d_1 (Conv1D)           (None, 6891, 128)         82048     \n",
            "                                                                 \n",
            " batch_normalization_1 (Batc  (None, 6891, 128)        512       \n",
            " hNormalization)                                                 \n",
            "                                                                 \n",
            " leaky_re_lu_1 (LeakyReLU)   (None, 6891, 128)         0         \n",
            "                                                                 \n",
            " conv1d_2 (Conv1D)           (None, 1723, 64)          41024     \n",
            "                                                                 \n",
            " batch_normalization_2 (Batc  (None, 1723, 64)         256       \n",
            " hNormalization)                                                 \n",
            "                                                                 \n",
            " leaky_re_lu_2 (LeakyReLU)   (None, 1723, 64)          0         \n",
            "                                                                 \n",
            " flatten (Flatten)           (None, 110272)            0         \n",
            "                                                                 \n",
            " dense (Dense)               (None, 1)                 110273    \n",
            "                                                                 \n",
            "=================================================================\n",
            "Total params: 235,393\n",
            "Trainable params: 234,753\n",
            "Non-trainable params: 640\n",
            "_________________________________________________________________\n"
          ]
        },
        {
          "output_type": "stream",
          "name": "stderr",
          "text": [
            "/usr/local/lib/python3.7/dist-packages/keras/optimizer_v2/adam.py:105: UserWarning: The `lr` argument is deprecated, use `learning_rate` instead.\n",
            "  super(Adam, self).__init__(name, **kwargs)\n"
          ]
        }
      ]
    },
    {
      "cell_type": "code",
      "source": [
        ""
      ],
      "metadata": {
        "id": "DXbt12Mtv6Ce"
      },
      "execution_count": 6,
      "outputs": []
    },
    {
      "cell_type": "code",
      "source": [
        "from keras.layers.convolutional import Conv1DTranspose\n",
        "from keras.layers import Reshape, UpSampling1D\n",
        "\n",
        "\n",
        "LATENT_DIM = 125\n",
        "#LATENT_DIM = 245\n",
        "\n",
        "def build_generator(input_shape=(LATENT_DIM, )):\n",
        "\n",
        "  X_input = Input(input_shape)\n",
        "  \n",
        "  y = Dense(input_shape[0] * 128)(X_input)\n",
        "  y = Reshape((input_shape[0], 128))(y)\n",
        "  y = BatchNormalization()(y)\n",
        "  y = UpSampling1D(49)(y)\n",
        "  y = Conv1DTranspose(128, kernel_size=5, strides=3, padding='same')(y)\n",
        "  y = BatchNormalization()(y)\n",
        "  y = LeakyReLU()(y)\n",
        "  y = Conv1DTranspose(128, kernel_size=5, strides=3, padding='same')(y)\n",
        "  y = BatchNormalization()(y)\n",
        "  y = LeakyReLU()(y)\n",
        "  y = Conv1DTranspose(64, kernel_size=3, strides=2, padding='same')(y)\n",
        "  y = BatchNormalization()(y)\n",
        "  y = LeakyReLU()(y)\n",
        "  y = Conv1D(1, kernel_size=3, padding='same', activation='tanh')(y)\n",
        "\n",
        "\n",
        "  model = Model(inputs = X_input, outputs = y)\n",
        "\n",
        "  model.summary()\n",
        "\n",
        "  return model"
      ],
      "metadata": {
        "id": "-U8M7G3BrtII"
      },
      "execution_count": 7,
      "outputs": []
    },
    {
      "cell_type": "code",
      "source": [
        "generator = build_generator()"
      ],
      "metadata": {
        "id": "VefRbGeltjBJ",
        "colab": {
          "base_uri": "https://localhost:8080/"
        },
        "outputId": "4d967e33-2fae-429d-b20b-958d8d9a30ce"
      },
      "execution_count": 8,
      "outputs": [
        {
          "output_type": "stream",
          "name": "stdout",
          "text": [
            "Model: \"model_1\"\n",
            "_________________________________________________________________\n",
            " Layer (type)                Output Shape              Param #   \n",
            "=================================================================\n",
            " input_2 (InputLayer)        [(None, 125)]             0         \n",
            "                                                                 \n",
            " dense_1 (Dense)             (None, 16000)             2016000   \n",
            "                                                                 \n",
            " reshape (Reshape)           (None, 125, 128)          0         \n",
            "                                                                 \n",
            " batch_normalization_3 (Batc  (None, 125, 128)         512       \n",
            " hNormalization)                                                 \n",
            "                                                                 \n",
            " up_sampling1d (UpSampling1D  (None, 6125, 128)        0         \n",
            " )                                                               \n",
            "                                                                 \n",
            " conv1d_transpose (Conv1DTra  (None, 18375, 128)       82048     \n",
            " nspose)                                                         \n",
            "                                                                 \n",
            " batch_normalization_4 (Batc  (None, 18375, 128)       512       \n",
            " hNormalization)                                                 \n",
            "                                                                 \n",
            " leaky_re_lu_3 (LeakyReLU)   (None, 18375, 128)        0         \n",
            "                                                                 \n",
            " conv1d_transpose_1 (Conv1DT  (None, 55125, 128)       82048     \n",
            " ranspose)                                                       \n",
            "                                                                 \n",
            " batch_normalization_5 (Batc  (None, 55125, 128)       512       \n",
            " hNormalization)                                                 \n",
            "                                                                 \n",
            " leaky_re_lu_4 (LeakyReLU)   (None, 55125, 128)        0         \n",
            "                                                                 \n",
            " conv1d_transpose_2 (Conv1DT  (None, 110250, 64)       24640     \n",
            " ranspose)                                                       \n",
            "                                                                 \n",
            " batch_normalization_6 (Batc  (None, 110250, 64)       256       \n",
            " hNormalization)                                                 \n",
            "                                                                 \n",
            " leaky_re_lu_5 (LeakyReLU)   (None, 110250, 64)        0         \n",
            "                                                                 \n",
            " conv1d_3 (Conv1D)           (None, 110250, 1)         193       \n",
            "                                                                 \n",
            "=================================================================\n",
            "Total params: 2,206,721\n",
            "Trainable params: 2,205,825\n",
            "Non-trainable params: 896\n",
            "_________________________________________________________________\n"
          ]
        }
      ]
    },
    {
      "cell_type": "code",
      "source": [
        "z = Input(shape=(LATENT_DIM,))\n",
        "sample = generator(z)\n",
        "discriminator.trainable = False\n",
        "valid = discriminator(sample)\n",
        "combined_model = Model(z, valid)\n",
        "combined_model.compile(loss='binary_crossentropy', optimizer=Adam(lr=0.0001, beta_1=0.5))\n",
        "combined_model.summary()"
      ],
      "metadata": {
        "id": "Fp2b6W8SuPHv",
        "colab": {
          "base_uri": "https://localhost:8080/"
        },
        "outputId": "deb98154-c2f4-441c-a3a7-c107b5f44380"
      },
      "execution_count": 9,
      "outputs": [
        {
          "output_type": "stream",
          "name": "stdout",
          "text": [
            "Model: \"model_2\"\n",
            "_________________________________________________________________\n",
            " Layer (type)                Output Shape              Param #   \n",
            "=================================================================\n",
            " input_3 (InputLayer)        [(None, 125)]             0         \n",
            "                                                                 \n",
            " model_1 (Functional)        (None, 110250, 1)         2206721   \n",
            "                                                                 \n",
            " model (Functional)          (None, 1)                 235393    \n",
            "                                                                 \n",
            "=================================================================\n",
            "Total params: 2,442,114\n",
            "Trainable params: 2,205,825\n",
            "Non-trainable params: 236,289\n",
            "_________________________________________________________________\n"
          ]
        },
        {
          "output_type": "stream",
          "name": "stderr",
          "text": [
            "/usr/local/lib/python3.7/dist-packages/keras/optimizer_v2/adam.py:105: UserWarning: The `lr` argument is deprecated, use `learning_rate` instead.\n",
            "  super(Adam, self).__init__(name, **kwargs)\n"
          ]
        }
      ]
    },
    {
      "cell_type": "code",
      "source": [
        "batch_size = 32\n",
        "half_batch = int(batch_size / 2)\n",
        "\n",
        "real_labels = np.ones((batch_size, 1))\n",
        "fake_labels = np.zeros((batch_size, 1))\n",
        "\n",
        "epochs = 4\n",
        "\n",
        "DATASET_PATH = './audio_splitting/genres/jazz'\n",
        "SAMPLES_LIST = os.listdir(DATASET_PATH)\n",
        "SAMPLES_NUM = len(SAMPLES_LIST)\n",
        "d_loss_history = []\n",
        "d_acc_history = []\n",
        "g_loss_history = []"
      ],
      "metadata": {
        "id": "a1k1rRVGtlZf"
      },
      "execution_count": 10,
      "outputs": []
    },
    {
      "cell_type": "code",
      "source": [
        "batches_num = int(SAMPLES_NUM/half_batch)\n",
        "\n",
        "for epoch in range(epochs):\n",
        "  idx = np.arange(SAMPLES_NUM)\n",
        "  np.random.shuffle(idx)\n",
        "\n",
        "  d_loss_sum = 0\n",
        "  d_acc_sum = 0\n",
        "  g_loss_sum = 0\n",
        "\n",
        "  for batch in range(batches_num):\n",
        "    batch_idx = idx[batch*half_batch : (batch+1)*half_batch]\n",
        "    \n",
        "    real_samples, _ = get_data([\n",
        "        os.path.join(DATASET_PATH, SAMPLES_LIST[i]) for i in batch_idx\n",
        "      ])\n",
        "    \n",
        "    real_samples = normalize(real_samples, axis=1)\n",
        "    \n",
        "    #print(\"%d : batch %d samples loaded\" % (epoch, batch))\n",
        "\n",
        "    noise = np.random.normal(0, 1, (batch_size, LATENT_DIM))\n",
        "    gen_samples = generator.predict(noise[0:half_batch])\n",
        "\n",
        "    #print('fake samples generated')\n",
        "\n",
        "    d_loss_real = discriminator.train_on_batch(real_samples, real_labels[0:half_batch])\n",
        "    d_loss_fake = discriminator.train_on_batch(gen_samples, fake_labels[0:half_batch])\n",
        "    d_loss = 0.5 * np.add(d_loss_real, d_loss_fake)\n",
        "\n",
        "    g_loss = combined_model.train_on_batch(noise, real_labels)\n",
        "\n",
        "    d_loss_sum += d_loss[0]\n",
        "    d_acc_sum += d_loss[1]\n",
        "    g_loss_sum += g_loss\n",
        "\n",
        "  d_loss_history.append(d_loss_sum/batches_num)\n",
        "  g_loss_history.append(g_loss_sum/batches_num)\n",
        "  d_acc_history.append(100*d_acc_sum/batches_num)\n",
        "  \n",
        "  print(\"%d [D loss: %f, acc.: %.2f%%] [G loss: %f]\"\n",
        "    % (epoch, d_loss_sum/batches_num, 100*d_acc_sum/batches_num, g_loss_sum/batches_num))"
      ],
      "metadata": {
        "id": "Zt8gSem7EQ_q",
        "colab": {
          "base_uri": "https://localhost:8080/"
        },
        "outputId": "1fbf95e5-831b-49f9-d746-65803365d292"
      },
      "execution_count": 11,
      "outputs": [
        {
          "output_type": "stream",
          "name": "stdout",
          "text": [
            "0 [D loss: 0.892924, acc.: 52.11%] [G loss: 0.724533]\n",
            "1 [D loss: 0.398071, acc.: 84.12%] [G loss: 0.657709]\n",
            "2 [D loss: 0.656098, acc.: 78.04%] [G loss: 2.231239]\n",
            "3 [D loss: 0.008670, acc.: 100.00%] [G loss: 0.000609]\n"
          ]
        }
      ]
    },
    {
      "cell_type": "code",
      "source": [
        "import matplotlib.pyplot as plt\n",
        "\n",
        "noise = np.random.normal(0, 1, (1, LATENT_DIM))\n",
        "gen_sample = generator.predict(noise)\n",
        "gen_sample = gen_sample.reshape(AUDIO_LENGTH, 1)\n",
        "\n",
        "plt.figure(figsize=(15,5))\n",
        "plt.plot(gen_sample)\n",
        "plt.show()\n",
        "#plt.savefig('gen_sample_dcgan' + str(len(g_loss_history)))"
      ],
      "metadata": {
        "id": "p23OmFpv3tj7",
        "colab": {
          "base_uri": "https://localhost:8080/",
          "height": 268
        },
        "outputId": "db35e7f6-6fd8-4968-a368-4bf71c3dbacb"
      },
      "execution_count": 12,
      "outputs": [
        {
          "output_type": "display_data",
          "data": {
            "image/png": "[encoded data removed]",
            "text/plain": [
              "<Figure size 1080x360 with 1 Axes>"
            ]
          },
          "metadata": {
            "needs_background": "light"
          }
        }
      ]
    },
    {
      "cell_type": "code",
      "source": [
        "generator.save('generator_dcgan.h5')\n",
        "discriminator.save('discriminator_dcgan.h5')"
      ],
      "metadata": {
        "colab": {
          "base_uri": "https://localhost:8080/"
        },
        "id": "CrHZzYAtx8y7",
        "outputId": "f438c12b-cf79-48b7-e604-8269555fd84c"
      },
      "execution_count": 13,
      "outputs": [
        {
          "output_type": "stream",
          "name": "stdout",
          "text": [
            "WARNING:tensorflow:Compiled the loaded model, but the compiled metrics have yet to be built. `model.compile_metrics` will be empty until you train or evaluate the model.\n"
          ]
        }
      ]
    },
    {
      "cell_type": "code",
      "source": [
        "with open(DATASET_PATH + '/3000.pkl', 'rb') as f:\n",
        "      pkl_file = pickle.load(f)\n",
        "      plt.figure(figsize=(15,5))\n",
        "      plt.plot(normalize(pkl_file['audio']))\n",
        "      plt.show()\n"
      ],
      "metadata": {
        "id": "bmeM7jgVBiX9",
        "colab": {
          "base_uri": "https://localhost:8080/",
          "height": 266
        },
        "outputId": "7f7e4207-57d1-42a0-84fe-0914c109c5ec"
      },
      "execution_count": 14,
      "outputs": [
        {
          "output_type": "display_data",
          "data": {
            "image/png": "[encoded data removed]",
            "text/plain": [
              "<Figure size 1080x360 with 1 Axes>"
            ]
          },
          "metadata": {
            "needs_background": "light"
          }
        }
      ]
    },
    {
      "cell_type": "code",
      "source": [
        "plt.figure(figsize=(15,5))\n",
        "plt.plot(d_acc_history)"
      ],
      "metadata": {
        "colab": {
          "base_uri": "https://localhost:8080/",
          "height": 287
        },
        "id": "ViFyh1zo4QOh",
        "outputId": "88cccbe4-88ed-4f3f-aab1-2291a3f4a3a7"
      },
      "execution_count": 15,
      "outputs": [
        {
          "output_type": "execute_result",
          "data": {
            "text/plain": [
              "[<matplotlib.lines.Line2D at 0x7fd46dfe33d0>]"
            ]
          },
          "metadata": {},
          "execution_count": 15
        },
        {
          "output_type": "display_data",
          "data": {
            "image/png": "[encoded data removed]",
            "text/plain": [
              "<Figure size 1080x360 with 1 Axes>"
            ]
          },
          "metadata": {
            "needs_background": "light"
          }
        }
      ]
    },
    {
      "cell_type": "code",
      "source": [
        "plt.figure(figsize=(15,5))\n",
        "plt.plot(d_loss_history, label='d_loss')\n",
        "plt.plot(g_loss_history, label='g_loss')\n",
        "plt.legend()"
      ],
      "metadata": {
        "colab": {
          "base_uri": "https://localhost:8080/",
          "height": 287
        },
        "id": "VIhgf1mD4aqU",
        "outputId": "2d1c9681-5e7a-48bc-9f26-00646d82f645"
      },
      "execution_count": 16,
      "outputs": [
        {
          "output_type": "execute_result",
          "data": {
            "text/plain": [
              "<matplotlib.legend.Legend at 0x7fd46e2732d0>"
            ]
          },
          "metadata": {},
          "execution_count": 16
        },
        {
          "output_type": "display_data",
          "data": {
            "image/png": "[encoded data removed]",
            "text/plain": [
              "<Figure size 1080x360 with 1 Axes>"
            ]
          },
          "metadata": {
            "needs_background": "light"
          }
        }
      ]
    },
    {
      "cell_type": "code",
      "source": [
        ""
      ],
      "metadata": {
        "id": "sU51x5BO4cGi"
      },
      "execution_count": 16,
      "outputs": []
    },
    {
      "cell_type": "code",
      "source": [
        ""
      ],
      "metadata": {
        "id": "Pw_bxvmwgMZk"
      },
      "execution_count": 16,
      "outputs": []
    },
    {
      "cell_type": "code",
      "source": [
        ""
      ],
      "metadata": {
        "id": "you_rwVHlzZr"
      },
      "execution_count": 16,
      "outputs": []
    },
    {
      "cell_type": "code",
      "source": [
        ""
      ],
      "metadata": {
        "id": "QpQmb1qppHno"
      },
      "execution_count": 16,
      "outputs": []
    }
  ]
}