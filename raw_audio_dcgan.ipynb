{
  "nbformat": 4,
  "nbformat_minor": 0,
  "metadata": {
    "colab": {
      "name": "raw_audio_dcgan.ipynb",
      "provenance": [],
      "collapsed_sections": [],
      "authorship_tag": "ABX9TyNwqj83eIUywAfWkTBz0yAB",
      "include_colab_link": true
    },
    "kernelspec": {
      "name": "python3",
      "display_name": "Python 3"
    },
    "language_info": {
      "name": "python"
    },
    "accelerator": "GPU"
  },
  "cells": [
    {
      "cell_type": "markdown",
      "metadata": {
        "id": "view-in-github",
        "colab_type": "text"
      },
      "source": [
        "<a href=\"https://colab.research.google.com/github/wojciechsadlik/MGU-CGANMusicConverter/blob/main/raw_audio_dcgan.ipynb\" target=\"_parent\"><img src=\"https://colab.research.google.com/assets/colab-badge.svg\" alt=\"Open In Colab\"/></a>"
      ]
    },
    {
      "cell_type": "code",
      "execution_count": 1,
      "metadata": {
        "id": "pRSEMDDlqXMQ",
        "colab": {
          "base_uri": "https://localhost:8080/"
        },
        "outputId": "9479e855-e640-4084-d94c-821b3db0c28f"
      },
      "outputs": [
        {
          "output_type": "stream",
          "name": "stdout",
          "text": [
            "Drive already mounted at /content/drive; to attempt to forcibly remount, call drive.mount(\"/content/drive\", force_remount=True).\n"
          ]
        }
      ],
      "source": [
        "from google.colab import drive\n",
        "drive.mount('/content/drive')"
      ]
    },
    {
      "cell_type": "code",
      "source": [
        "%cd /content/drive/MyDrive/Colab Notebooks/MGU-CGANMusicConverter"
      ],
      "metadata": {
        "colab": {
          "base_uri": "https://localhost:8080/"
        },
        "id": "TmizoChIFpqn",
        "outputId": "052573c2-9fdc-4236-825d-96d2ecd4297a"
      },
      "execution_count": 2,
      "outputs": [
        {
          "output_type": "stream",
          "name": "stdout",
          "text": [
            "/content/drive/MyDrive/Colab Notebooks/MGU-CGANMusicConverter\n"
          ]
        }
      ]
    },
    {
      "cell_type": "code",
      "source": [
        "import os\n",
        "import pickle\n",
        "import numpy as np\n",
        "from glob import glob\n",
        "from keras.utils.np_utils import to_categorical"
      ],
      "metadata": {
        "id": "Gs6h4Ks9qeSJ"
      },
      "execution_count": 3,
      "outputs": []
    },
    {
      "cell_type": "code",
      "source": [
        "def get_data(file_list):\n",
        "  def load_into(filename, x, y):\n",
        "    with open(filename, 'rb') as f:\n",
        "      pkl_file = pickle.load(f)\n",
        "      x.append(pkl_file['audio'])\n",
        "      y.append(int(pkl_file['class_id']))\n",
        "\n",
        "  x, y = [], []\n",
        "  for filename in file_list:\n",
        "    load_into(filename, x, y)\n",
        "\n",
        "  return np.array(x), np.array(y)"
      ],
      "metadata": {
        "id": "j1YeP0D_qnGa"
      },
      "execution_count": 4,
      "outputs": []
    },
    {
      "cell_type": "code",
      "source": [
        "from keras.layers.pooling import MaxPooling1D\n",
        "from keras.backend import in_top_k\n",
        "from keras.models import Model\n",
        "from keras.layers.convolutional import Conv1D\n",
        "from keras import regularizers, Input\n",
        "from tensorflow.keras.layers import BatchNormalization\n",
        "from keras.layers.core import Activation\n",
        "from keras.layers import LeakyReLU, Add, Dense, Flatten\n",
        "from tensorflow.keras.utils import plot_model\n",
        "from tensorflow.keras.optimizers import Adam\n",
        "\n",
        "AUDIO_LENGTH = 110250\n",
        "\n",
        "def add_Res1D(y, kernel_size, filters, strides=1, downsample=False):\n",
        "  y_shortcut = y\n",
        "\n",
        "  y = Conv1D(filters=filters, kernel_size=kernel_size, strides=1, padding='same')(y)\n",
        "  y = BatchNormalization()(y)\n",
        "  y = LeakyReLU()(y)\n",
        "  y = Conv1D(filters=filters, kernel_size=kernel_size, strides=strides, padding='same')(y)\n",
        "  y = BatchNormalization()(y)\n",
        "\n",
        "  if downsample or strides > 1:\n",
        "    y_shortcut = Conv1D(filters=filters, kernel_size=1, strides=strides, padding='same')(y_shortcut)\n",
        "\n",
        "  y = Add()([y_shortcut, y])\n",
        "  y = LeakyReLU()(y)\n",
        "\n",
        "  return y\n",
        "\n",
        "\n",
        "def build_discriminator(input_shape=[AUDIO_LENGTH, 1]):\n",
        "\n",
        "  X_input = Input(input_shape)\n",
        "  \n",
        "  y = Conv1D(32, kernel_size=7, strides=5, padding='same')(X_input)\n",
        "  y = BatchNormalization()(y)\n",
        "  y = LeakyReLU()(y)\n",
        "  y = Conv1D(32, kernel_size=7, strides=5, padding='same')(y)\n",
        "  y = BatchNormalization()(y)\n",
        "  y = LeakyReLU()(y)\n",
        "  y = Conv1D(32, kernel_size=3, strides=3, padding='same')(y)\n",
        "  y = BatchNormalization()(y)\n",
        "  y = LeakyReLU()(y)\n",
        "  y = Flatten()(y)\n",
        "  y = Dense(1, activation='sigmoid')(y)\n",
        "\n",
        "  model = Model(inputs = X_input, outputs = y)\n",
        "\n",
        "  model.summary()\n",
        "\n",
        "  return model"
      ],
      "metadata": {
        "id": "-L00GaRwqqJh"
      },
      "execution_count": 5,
      "outputs": []
    },
    {
      "cell_type": "code",
      "source": [
        "discriminator = build_discriminator()\n",
        "discriminator.compile(loss='binary_crossentropy', optimizer=Adam(lr=0.0001, beta_1=0.5), metrics=['accuracy'])"
      ],
      "metadata": {
        "id": "lZo_6o5R4Hx2",
        "colab": {
          "base_uri": "https://localhost:8080/"
        },
        "outputId": "f2c856bb-26fb-4bd8-af29-f776238e9aa5"
      },
      "execution_count": 6,
      "outputs": [
        {
          "output_type": "stream",
          "name": "stdout",
          "text": [
            "Model: \"model\"\n",
            "_________________________________________________________________\n",
            " Layer (type)                Output Shape              Param #   \n",
            "=================================================================\n",
            " input_1 (InputLayer)        [(None, 110250, 1)]       0         \n",
            "                                                                 \n",
            " conv1d (Conv1D)             (None, 22050, 32)         256       \n",
            "                                                                 \n",
            " batch_normalization (BatchN  (None, 22050, 32)        128       \n",
            " ormalization)                                                   \n",
            "                                                                 \n",
            " leaky_re_lu (LeakyReLU)     (None, 22050, 32)         0         \n",
            "                                                                 \n",
            " conv1d_1 (Conv1D)           (None, 4410, 32)          7200      \n",
            "                                                                 \n",
            " batch_normalization_1 (Batc  (None, 4410, 32)         128       \n",
            " hNormalization)                                                 \n",
            "                                                                 \n",
            " leaky_re_lu_1 (LeakyReLU)   (None, 4410, 32)          0         \n",
            "                                                                 \n",
            " conv1d_2 (Conv1D)           (None, 1470, 32)          3104      \n",
            "                                                                 \n",
            " batch_normalization_2 (Batc  (None, 1470, 32)         128       \n",
            " hNormalization)                                                 \n",
            "                                                                 \n",
            " leaky_re_lu_2 (LeakyReLU)   (None, 1470, 32)          0         \n",
            "                                                                 \n",
            " flatten (Flatten)           (None, 47040)             0         \n",
            "                                                                 \n",
            " dense (Dense)               (None, 1)                 47041     \n",
            "                                                                 \n",
            "=================================================================\n",
            "Total params: 57,985\n",
            "Trainable params: 57,793\n",
            "Non-trainable params: 192\n",
            "_________________________________________________________________\n"
          ]
        },
        {
          "output_type": "stream",
          "name": "stderr",
          "text": [
            "/usr/local/lib/python3.7/dist-packages/keras/optimizer_v2/adam.py:105: UserWarning: The `lr` argument is deprecated, use `learning_rate` instead.\n",
            "  super(Adam, self).__init__(name, **kwargs)\n"
          ]
        }
      ]
    },
    {
      "cell_type": "code",
      "source": [
        ""
      ],
      "metadata": {
        "id": "DXbt12Mtv6Ce"
      },
      "execution_count": 6,
      "outputs": []
    },
    {
      "cell_type": "code",
      "source": [
        "from keras.layers.convolutional import Conv1DTranspose\n",
        "from keras.layers import Reshape\n",
        "\n",
        "LATENT_DIM = 98\n",
        "#LATENT_DIM = 245\n",
        "\n",
        "def build_generator(input_shape=(LATENT_DIM, )):\n",
        "\n",
        "  X_input = Input(input_shape)\n",
        "  \n",
        "  y = Dense(input_shape[0] * 128)(X_input)\n",
        "  y = Reshape((input_shape[0], 128))(y)\n",
        "  y = BatchNormalization()(y)\n",
        "  y = Conv1DTranspose(128, kernel_size=7, strides=5, padding='same')(y)\n",
        "  y = BatchNormalization()(y)\n",
        "  y = LeakyReLU()(y)\n",
        "  y = Conv1DTranspose(128, kernel_size=7, strides=5, padding='same')(y)\n",
        "  y = BatchNormalization()(y)\n",
        "  y = LeakyReLU()(y)\n",
        "  y = Conv1DTranspose(128, kernel_size=7, strides=5, padding='same')(y)\n",
        "  y = BatchNormalization()(y)\n",
        "  y = LeakyReLU()(y)\n",
        "  y = Conv1DTranspose(64, kernel_size=3, strides=3, padding='same')(y)\n",
        "  y = BatchNormalization()(y)\n",
        "  y = LeakyReLU()(y)\n",
        "  y = Conv1DTranspose(64, kernel_size=3, strides=3, padding='same')(y)\n",
        "  y = BatchNormalization()(y)\n",
        "  y = LeakyReLU()(y)\n",
        "  y = Conv1D(1, kernel_size=3, padding='same', activation='tanh')(y)\n",
        "\n",
        "\n",
        "  model = Model(inputs = X_input, outputs = y)\n",
        "\n",
        "  model.summary()\n",
        "\n",
        "  return model"
      ],
      "metadata": {
        "id": "-U8M7G3BrtII"
      },
      "execution_count": 7,
      "outputs": []
    },
    {
      "cell_type": "code",
      "source": [
        "generator = build_generator()"
      ],
      "metadata": {
        "id": "VefRbGeltjBJ",
        "colab": {
          "base_uri": "https://localhost:8080/"
        },
        "outputId": "6ab8a657-9e1a-47b1-84de-dda62b23065c"
      },
      "execution_count": 8,
      "outputs": [
        {
          "output_type": "stream",
          "name": "stdout",
          "text": [
            "Model: \"model_1\"\n",
            "_________________________________________________________________\n",
            " Layer (type)                Output Shape              Param #   \n",
            "=================================================================\n",
            " input_2 (InputLayer)        [(None, 98)]              0         \n",
            "                                                                 \n",
            " dense_1 (Dense)             (None, 12544)             1241856   \n",
            "                                                                 \n",
            " reshape (Reshape)           (None, 98, 128)           0         \n",
            "                                                                 \n",
            " batch_normalization_3 (Batc  (None, 98, 128)          512       \n",
            " hNormalization)                                                 \n",
            "                                                                 \n",
            " conv1d_transpose (Conv1DTra  (None, 490, 128)         114816    \n",
            " nspose)                                                         \n",
            "                                                                 \n",
            " batch_normalization_4 (Batc  (None, 490, 128)         512       \n",
            " hNormalization)                                                 \n",
            "                                                                 \n",
            " leaky_re_lu_3 (LeakyReLU)   (None, 490, 128)          0         \n",
            "                                                                 \n",
            " conv1d_transpose_1 (Conv1DT  (None, 2450, 128)        114816    \n",
            " ranspose)                                                       \n",
            "                                                                 \n",
            " batch_normalization_5 (Batc  (None, 2450, 128)        512       \n",
            " hNormalization)                                                 \n",
            "                                                                 \n",
            " leaky_re_lu_4 (LeakyReLU)   (None, 2450, 128)         0         \n",
            "                                                                 \n",
            " conv1d_transpose_2 (Conv1DT  (None, 12250, 128)       114816    \n",
            " ranspose)                                                       \n",
            "                                                                 \n",
            " batch_normalization_6 (Batc  (None, 12250, 128)       512       \n",
            " hNormalization)                                                 \n",
            "                                                                 \n",
            " leaky_re_lu_5 (LeakyReLU)   (None, 12250, 128)        0         \n",
            "                                                                 \n",
            " conv1d_transpose_3 (Conv1DT  (None, 36750, 64)        24640     \n",
            " ranspose)                                                       \n",
            "                                                                 \n",
            " batch_normalization_7 (Batc  (None, 36750, 64)        256       \n",
            " hNormalization)                                                 \n",
            "                                                                 \n",
            " leaky_re_lu_6 (LeakyReLU)   (None, 36750, 64)         0         \n",
            "                                                                 \n",
            " conv1d_transpose_4 (Conv1DT  (None, 110250, 64)       12352     \n",
            " ranspose)                                                       \n",
            "                                                                 \n",
            " batch_normalization_8 (Batc  (None, 110250, 64)       256       \n",
            " hNormalization)                                                 \n",
            "                                                                 \n",
            " leaky_re_lu_7 (LeakyReLU)   (None, 110250, 64)        0         \n",
            "                                                                 \n",
            " conv1d_3 (Conv1D)           (None, 110250, 1)         193       \n",
            "                                                                 \n",
            "=================================================================\n",
            "Total params: 1,626,049\n",
            "Trainable params: 1,624,769\n",
            "Non-trainable params: 1,280\n",
            "_________________________________________________________________\n"
          ]
        }
      ]
    },
    {
      "cell_type": "code",
      "source": [
        "z = Input(shape=(LATENT_DIM,))\n",
        "sample = generator(z)\n",
        "discriminator.trainable = False\n",
        "valid = discriminator(sample)\n",
        "combined_model = Model(z, valid)\n",
        "combined_model.compile(loss='binary_crossentropy', optimizer=Adam(lr=0.0001, beta_1=0.5))\n",
        "combined_model.summary()"
      ],
      "metadata": {
        "id": "Fp2b6W8SuPHv",
        "colab": {
          "base_uri": "https://localhost:8080/"
        },
        "outputId": "7c7bb6cd-5da9-4a5d-ea70-463e024aa2d7"
      },
      "execution_count": 9,
      "outputs": [
        {
          "output_type": "stream",
          "name": "stdout",
          "text": [
            "Model: \"model_2\"\n",
            "_________________________________________________________________\n",
            " Layer (type)                Output Shape              Param #   \n",
            "=================================================================\n",
            " input_3 (InputLayer)        [(None, 98)]              0         \n",
            "                                                                 \n",
            " model_1 (Functional)        (None, 110250, 1)         1626049   \n",
            "                                                                 \n",
            " model (Functional)          (None, 1)                 57985     \n",
            "                                                                 \n",
            "=================================================================\n",
            "Total params: 1,684,034\n",
            "Trainable params: 1,624,769\n",
            "Non-trainable params: 59,265\n",
            "_________________________________________________________________\n"
          ]
        },
        {
          "output_type": "stream",
          "name": "stderr",
          "text": [
            "/usr/local/lib/python3.7/dist-packages/keras/optimizer_v2/adam.py:105: UserWarning: The `lr` argument is deprecated, use `learning_rate` instead.\n",
            "  super(Adam, self).__init__(name, **kwargs)\n"
          ]
        }
      ]
    },
    {
      "cell_type": "code",
      "source": [
        "batch_size = 32\n",
        "half_batch = int(batch_size / 2)\n",
        "\n",
        "real_labels = np.ones((batch_size, 1))\n",
        "fake_labels = np.zeros((batch_size, 1))\n",
        "\n",
        "epochs = 4\n",
        "\n",
        "DATASET_PATH = './audio_splitting/genres/jazz'\n",
        "SAMPLES_LIST = os.listdir(DATASET_PATH)\n",
        "SAMPLES_NUM = len(SAMPLES_LIST)\n",
        "d_loss_history = []\n",
        "d_acc_history = []\n",
        "g_loss_history = []"
      ],
      "metadata": {
        "id": "a1k1rRVGtlZf"
      },
      "execution_count": 10,
      "outputs": []
    },
    {
      "cell_type": "code",
      "source": [
        "batches_num = int(SAMPLES_NUM/half_batch)\n",
        "\n",
        "for epoch in range(epochs):\n",
        "  idx = np.arange(SAMPLES_NUM)\n",
        "  np.random.shuffle(idx)\n",
        "\n",
        "  d_loss_sum = 0\n",
        "  d_acc_sum = 0\n",
        "  g_loss_sum = 0\n",
        "\n",
        "  for batch in range(batches_num):\n",
        "    batch_idx = idx[batch*half_batch : (batch+1)*half_batch]\n",
        "    \n",
        "    real_samples, _ = get_data([\n",
        "        os.path.join(DATASET_PATH, SAMPLES_LIST[i]) for i in batch_idx\n",
        "      ])\n",
        "    \n",
        "    #print(\"%d : batch %d samples loaded\" % (epoch, batch))\n",
        "\n",
        "    noise = np.random.normal(0, 1, (batch_size, LATENT_DIM))\n",
        "    gen_samples = generator.predict(noise[0:half_batch])\n",
        "\n",
        "    #print('fake samples generated')\n",
        "\n",
        "    d_loss_real = discriminator.train_on_batch(real_samples, real_labels[0:half_batch])\n",
        "    d_loss_fake = discriminator.train_on_batch(gen_samples, fake_labels[0:half_batch])\n",
        "    d_loss = 0.5 * np.add(d_loss_real, d_loss_fake)\n",
        "\n",
        "    g_loss = combined_model.train_on_batch(noise, real_labels)\n",
        "\n",
        "    d_loss_sum += d_loss[0]\n",
        "    d_acc_sum += d_loss[1]\n",
        "    g_loss_sum += g_loss\n",
        "\n",
        "  d_loss_history.append(d_loss_sum/batches_num)\n",
        "  g_loss_history.append(g_loss_sum/batches_num)\n",
        "  d_acc_history.append(100*d_acc_sum/batches_num)\n",
        "  \n",
        "  print(\"%d [D loss: %f, acc.: %.2f%%] [G loss: %f]\"\n",
        "    % (epoch, d_loss_sum/batches_num, 100*d_acc_sum/batches_num, g_loss_sum/batches_num))"
      ],
      "metadata": {
        "id": "Zt8gSem7EQ_q",
        "colab": {
          "base_uri": "https://localhost:8080/"
        },
        "outputId": "6c0ecedc-dd7d-48b0-d676-235da0addd35"
      },
      "execution_count": 11,
      "outputs": [
        {
          "output_type": "stream",
          "name": "stdout",
          "text": [
            "0 [D loss: 0.530757, acc.: 77.28%] [G loss: 0.393687]\n",
            "1 [D loss: 0.151207, acc.: 97.21%] [G loss: 0.019251]\n",
            "2 [D loss: 0.013662, acc.: 100.00%] [G loss: 0.000022]\n",
            "3 [D loss: 0.007434, acc.: 100.00%] [G loss: 0.000000]\n"
          ]
        }
      ]
    },
    {
      "cell_type": "code",
      "source": [
        "import matplotlib.pyplot as plt\n",
        "\n",
        "noise = np.random.normal(0, 1, (1, LATENT_DIM))\n",
        "gen_sample = generator.predict(noise)\n",
        "gen_sample = gen_sample.reshape(AUDIO_LENGTH, 1)\n",
        "\n",
        "plt.figure(figsize=(15,5))\n",
        "plt.plot(gen_sample[50100 : 100100])\n",
        "plt.show()\n",
        "#plt.savefig('gen_sample_dcgan' + str(len(g_loss_history)))"
      ],
      "metadata": {
        "id": "p23OmFpv3tj7",
        "colab": {
          "base_uri": "https://localhost:8080/",
          "height": 238
        },
        "outputId": "9a0472f3-6264-47ba-abcd-c963c7235ba0"
      },
      "execution_count": 12,
      "outputs": [
        {
          "output_type": "display_data",
          "data": {
            "image/png": "[encoded data removed]",
            "text/plain": [
              "<Figure size 1080x360 with 1 Axes>"
            ]
          },
          "metadata": {
            "needs_background": "light"
          }
        }
      ]
    },
    {
      "cell_type": "code",
      "source": [
        "generator.save('generator_dcgan.h5')\n",
        "discriminator.save('discriminator_dcgan.h5')"
      ],
      "metadata": {
        "colab": {
          "base_uri": "https://localhost:8080/"
        },
        "id": "CrHZzYAtx8y7",
        "outputId": "6e20828c-3165-44b3-9a92-5c669b2bdf9d"
      },
      "execution_count": 13,
      "outputs": [
        {
          "output_type": "stream",
          "name": "stdout",
          "text": [
            "WARNING:tensorflow:Compiled the loaded model, but the compiled metrics have yet to be built. `model.compile_metrics` will be empty until you train or evaluate the model.\n"
          ]
        }
      ]
    },
    {
      "cell_type": "code",
      "source": [
        "with open(DATASET_PATH + '/3000.pkl', 'rb') as f:\n",
        "      pkl_file = pickle.load(f)\n",
        "      plt.figure(figsize=(15,5))\n",
        "      plt.plot(pkl_file['audio'][50100 : 100100])\n",
        "      plt.show()\n"
      ],
      "metadata": {
        "id": "bmeM7jgVBiX9",
        "colab": {
          "base_uri": "https://localhost:8080/",
          "height": 237
        },
        "outputId": "646a1b9a-a306-47e4-9a3a-a02d40444783"
      },
      "execution_count": 14,
      "outputs": [
        {
          "output_type": "display_data",
          "data": {
            "image/png": "[encoded data removed]",
            "text/plain": [
              "<Figure size 1080x360 with 1 Axes>"
            ]
          },
          "metadata": {
            "needs_background": "light"
          }
        }
      ]
    },
    {
      "cell_type": "code",
      "source": [
        "plt.figure(figsize=(15,5))\n",
        "plt.plot(d_acc_history)"
      ],
      "metadata": {
        "colab": {
          "base_uri": "https://localhost:8080/",
          "height": 257
        },
        "id": "ViFyh1zo4QOh",
        "outputId": "cd6469ad-fe6b-434f-da78-3fde60a68247"
      },
      "execution_count": 15,
      "outputs": [
        {
          "output_type": "execute_result",
          "data": {
            "text/plain": [
              "[<matplotlib.lines.Line2D at 0x7fa9948268d0>]"
            ]
          },
          "metadata": {},
          "execution_count": 15
        },
        {
          "output_type": "display_data",
          "data": {
            "image/png": "[encoded data removed]",
            "text/plain": [
              "<Figure size 1080x360 with 1 Axes>"
            ]
          },
          "metadata": {
            "needs_background": "light"
          }
        }
      ]
    },
    {
      "cell_type": "code",
      "source": [
        "plt.figure(figsize=(15,5))\n",
        "plt.plot(d_loss_history, label='d_loss')\n",
        "plt.plot(g_loss_history, label='g_loss')\n",
        "plt.legend()"
      ],
      "metadata": {
        "colab": {
          "base_uri": "https://localhost:8080/",
          "height": 258
        },
        "id": "VIhgf1mD4aqU",
        "outputId": "88edd8c8-3c39-4386-8f71-70df2bf11a38"
      },
      "execution_count": 16,
      "outputs": [
        {
          "output_type": "execute_result",
          "data": {
            "text/plain": [
              "<matplotlib.legend.Legend at 0x7fa9948267d0>"
            ]
          },
          "metadata": {},
          "execution_count": 16
        },
        {
          "output_type": "display_data",
          "data": {
            "image/png": "[encoded data removed]",
            "text/plain": [
              "<Figure size 1080x360 with 1 Axes>"
            ]
          },
          "metadata": {
            "needs_background": "light"
          }
        }
      ]
    },
    {
      "cell_type": "code",
      "source": [
        ""
      ],
      "metadata": {
        "id": "sU51x5BO4cGi"
      },
      "execution_count": 16,
      "outputs": []
    }
  ]
}